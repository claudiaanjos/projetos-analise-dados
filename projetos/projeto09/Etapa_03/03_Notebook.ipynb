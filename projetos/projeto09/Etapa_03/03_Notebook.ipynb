{
  "cells": [
    {
      "cell_type": "markdown",
      "metadata": {
        "id": "DtNBZFHO3M7n"
      },
      "source": [
        "# **Projeto de Retenção de Usuários no Waze**\n"
      ]
    },
    {
      "cell_type": "markdown",
      "metadata": {
        "id": "g-E8SNtmRUkN"
      },
      "source": [
        "Sua equipe está progredindo no projeto para desenvolver um modelo de aprendizado de máquina para prever a rotatividade de usuários. Até agora, você concluiu uma proposta de projeto e usou Python para inspecionar e organizar os dados do usuário do Waze.\n",
        "\n",
        "Você verifica sua caixa de entrada e percebe uma nova mensagem de Chidi Ga, analista de dados sênior de sua equipe. Chidi está satisfeita com o trabalho que você já concluiu e solicita sua ajuda com Análise Exploratória de Dados (EDA) e visualização adicional de dados. Você também nota um e-mail de acompanhamento da Diretora de Análise de Dados, Harriet Hadzic. Harriet sugere incluir um resumo executivo de sua análise para compartilhar com os colegas de equipe."
      ]
    },
    {
      "cell_type": "markdown",
      "metadata": {
        "id": "rgSbVJvomcVa"
      },
      "source": [
        "# **Análise exploratória de dados**\n",
        "\n",
        "O propósito desta etapa é realizar uma análise exploratória de dados (EDA) no conjunto de dados fornecido.\n",
        "\n",
        "O objetivo é continuar a análise dos dados que você iniciou na etapa anterior, adicionando visualizações relevantes que ajudem a comunicar a história que os dados contam.\n",
        "\n",
        "Esta atividade tem 4 partes:\n",
        "\n",
        "* Parte 1: Importações, links e carregamento\n",
        "\n",
        "* Parte 2: Exploração de dados\n",
        "\n",
        "* **Limpeza de dados**\n",
        "\n",
        "* Parte 3: Construção de visualizações\n",
        "\n",
        "* Parte 4: Avaliação e compartilhamento de resultados\n",
        "\n",
        "Siga as instruções e responda à pergunta abaixo. Em seguida, você concluirá um resumo executivo usando as perguntas listadas no [documento de Estratégia PACE](https://docs.google.com/document/d/1iSHdbfQR6w8RClJNWai8oJXn9tQmYoTKn6QohuaK4-s/template/preview?resourcekey=0-ZIHnbxL1dd2u9A47iEVXvg).\n",
        "\n",
        "\n"
      ]
    },
    {
      "cell_type": "markdown",
      "metadata": {
        "id": "a3Danrv2zSF7"
      },
      "source": [
        "# **Visualização com Python**"
      ]
    },
    {
      "cell_type": "markdown",
      "metadata": {
        "id": "rdR5eWbYx8GE"
      },
      "source": [
        "\n",
        "\n",
        "# **Etapas do PACE**\n"
      ]
    },
    {
      "cell_type": "markdown",
      "metadata": {
        "id": "JAmU9n78eiu0"
      },
      "source": [
        "Ao longo dos notebooks do projeto, você verá referências ao framework de resolução de problemas PACE."
      ]
    },
    {
      "cell_type": "markdown",
      "metadata": {
        "id": "xKLZJUqMx8GE"
      },
      "source": [
        "\n",
        "\n",
        "\n",
        "## **PACE: Planejar**\n",
        "\n",
        "\n",
        "\n",
        "\n"
      ]
    },
    {
      "cell_type": "markdown",
      "metadata": {
        "id": "SKur6gTPRcvy"
      },
      "source": [
        "### **Tarefa 1. Importações e carregamento de dados**\n",
        "\n",
        "Para a EDA dos dados, importe os dados e pacotes que serão mais úteis, como pandas, numpy e matplotlib.\n",
        "\n",
        "\n"
      ]
    },
    {
      "cell_type": "code",
      "execution_count": null,
      "metadata": {
        "id": "EO8vKZI8x8GF"
      },
      "outputs": [],
      "source": [
        "import pandas  as pd\n",
        "import numpy   as np\n",
        "import seaborn as sns\n",
        "import matplotlib.pyplot as plt"
      ]
    },
    {
      "cell_type": "code",
      "execution_count": null,
      "metadata": {
        "id": "w7XSDxoqyF9D"
      },
      "outputs": [],
      "source": [
        "df = pd.read_csv('waze_dataset.csv')"
      ]
    },
    {
      "cell_type": "markdown",
      "metadata": {
        "id": "3mipEiyZx8GI"
      },
      "source": [
        "\n",
        "\n",
        "## **PACE: Analisar**\n",
        "\n",
        "Considere as perguntas para concluir seu código:\n",
        "\n",
        "1. O dados precisam ser reestruturados ou convertidos em formatos utilizáveis?\n",
        "\n",
        "Os dados já estão em um formato estruturado. Cada linha representa um usuário.\n",
        "\n",
        "\n",
        "2. Existem variáveis com dados ausentes?\n",
        "\n",
        "Sim, há 700 linhas sem \"label\". Outras variáveis não têm valores ausentes."
      ]
    },
    {
      "cell_type": "markdown",
      "metadata": {
        "id": "n09krlKWRw_2"
      },
      "source": [
        "### **Tarefa 2. Exploração e limpeza de dados**\n",
        "\n",
        "Considere as seguintes perguntas:\n",
        "\n",
        "1. Dado o cenário, quais colunas de dados são mais aplicáveis?\n",
        "\n",
        "Como estamos interessados na retenção de usuários, a coluna \"label\" (rótulo) é essencial. Além do rótulo, as variáveis relacionadas ao comportamento do usuário serão as mais aplicáveis. Todas as variáveis estão relacionadas ao comportamento do usuário, exceto o ID.\n",
        "\n",
        "2. Quais colunas de dados você pode eliminar, sabendo que elas não resolverão seu problema no cenário apresentado?\n",
        "\n",
        "O ID pode ser excluído da análise, uma vez que não estamos interessados em identificar um usuário específico. O ID não fornece informações significativas sobre a retenção (a menos que o ID seja atribuído com base no tempo de inscrição do usuário).\n",
        "\n",
        "3. Como você verificaria a presença de dados ausentes? E como lidaria com dados ausentes (se houver)?\n",
        "\n",
        "Para verificar a presença de dados ausentes, podemos utilizar df.info() e analisar a coluna Non-Null Count. A diferença entre o número de valores não nulos e o número de linhas nos dados representa o número de valores ausentes para a variável.\n",
        "\n",
        "Se os dados ausentes estiverem completamente ausentes ao acaso (MCAR), o que significa que o motivo para a ausência é independente dos próprios valores dos dados, podemos prosseguir com uma análise de casos completos, removendo as linhas com valores ausentes. Caso contrário, precisamos investigar a causa raiz da ausência e garantir que ela não interfira na inferência estatística e modelagem.\n",
        "\n",
        "4. Como você identificaria outliers? E como lidaria com outliers (se houver)?\n",
        "\n",
        "Para identificar outliers, podemos utilizar métodos estatísticos como a regra do IQR (intervalo interquartil) ou visualizações, como boxplots. Uma vez identificados, a abordagem para lidar com outliers depende do contexto. Podemos optar por removê-los se forem resultado de erros ou representarem casos extremamente raros. Alternativamente, podemos transformar os dados ou usar métodos robustos ao outliers durante a modelagem para garantir que eles não influenciem excessivamente os resultados. A decisão específica dependerá da natureza dos dados e dos objetivos da análise.\n",
        "\n",
        "\n",
        "\n",
        "\n",
        "\n",
        "\n"
      ]
    },
    {
      "cell_type": "markdown",
      "metadata": {
        "id": "puIi193dELcJ"
      },
      "source": [
        "#### **Visão geral dos dados e resumo estatístico**\n",
        "\n",
        "Utilize os seguintes métodos e atributos no dataframe:\n",
        "\n",
        "* `head()`\n",
        "* `size`\n",
        "* `describe()`\n",
        "* `info()`"
      ]
    },
    {
      "cell_type": "code",
      "execution_count": null,
      "metadata": {
        "colab": {
          "base_uri": "https://localhost:8080/",
          "height": 383
        },
        "id": "cBOUo5p-tbib",
        "outputId": "f106cbe3-9ba4-4196-e2ab-fa80e3b94363"
      },
      "outputs": [
        {
          "output_type": "execute_result",
          "data": {
            "text/plain": [
              "   ID     label  sessions  drives  total_sessions  n_days_after_onboarding  \\\n",
              "0   0  retained       283     226      296.748273                     2276   \n",
              "1   1  retained       133     107      326.896596                     1225   \n",
              "2   2  retained       114      95      135.522926                     2651   \n",
              "3   3  retained        49      40       67.589221                       15   \n",
              "4   4  retained        84      68      168.247020                     1562   \n",
              "5   5  retained       113     103      279.544437                     2637   \n",
              "6   6  retained         3       2      236.725314                      360   \n",
              "7   7  retained        39      35      176.072845                     2999   \n",
              "8   8  retained        57      46      183.532018                      424   \n",
              "9   9   churned        84      68      244.802115                     2997   \n",
              "\n",
              "   total_navigations_fav1  total_navigations_fav2  driven_km_drives  \\\n",
              "0                     208                       0       2628.845068   \n",
              "1                      19                      64      13715.920550   \n",
              "2                       0                       0       3059.148818   \n",
              "3                     322                       7        913.591123   \n",
              "4                     166                       5       3950.202008   \n",
              "5                       0                       0        901.238699   \n",
              "6                     185                      18       5249.172828   \n",
              "7                       0                       0       7892.052468   \n",
              "8                       0                      26       2651.709764   \n",
              "9                      72                       0       6043.460295   \n",
              "\n",
              "   duration_minutes_drives  activity_days  driving_days   device  \n",
              "0              1985.775061             28            19  Android  \n",
              "1              3160.472914             13            11   iPhone  \n",
              "2              1610.735904             14             8  Android  \n",
              "3               587.196542              7             3   iPhone  \n",
              "4              1219.555924             27            18  Android  \n",
              "5               439.101397             15            11   iPhone  \n",
              "6               726.577205             28            23   iPhone  \n",
              "7              2466.981741             22            20   iPhone  \n",
              "8              1594.342984             25            20  Android  \n",
              "9              2341.838528              7             3   iPhone  "
            ],
            "text/html": [
              "\n",
              "  <div id=\"df-32bbab54-0f5d-43f1-bb05-0c0676c3c1f0\" class=\"colab-df-container\">\n",
              "    <div>\n",
              "<style scoped>\n",
              "    .dataframe tbody tr th:only-of-type {\n",
              "        vertical-align: middle;\n",
              "    }\n",
              "\n",
              "    .dataframe tbody tr th {\n",
              "        vertical-align: top;\n",
              "    }\n",
              "\n",
              "    .dataframe thead th {\n",
              "        text-align: right;\n",
              "    }\n",
              "</style>\n",
              "<table border=\"1\" class=\"dataframe\">\n",
              "  <thead>\n",
              "    <tr style=\"text-align: right;\">\n",
              "      <th></th>\n",
              "      <th>ID</th>\n",
              "      <th>label</th>\n",
              "      <th>sessions</th>\n",
              "      <th>drives</th>\n",
              "      <th>total_sessions</th>\n",
              "      <th>n_days_after_onboarding</th>\n",
              "      <th>total_navigations_fav1</th>\n",
              "      <th>total_navigations_fav2</th>\n",
              "      <th>driven_km_drives</th>\n",
              "      <th>duration_minutes_drives</th>\n",
              "      <th>activity_days</th>\n",
              "      <th>driving_days</th>\n",
              "      <th>device</th>\n",
              "    </tr>\n",
              "  </thead>\n",
              "  <tbody>\n",
              "    <tr>\n",
              "      <th>0</th>\n",
              "      <td>0</td>\n",
              "      <td>retained</td>\n",
              "      <td>283</td>\n",
              "      <td>226</td>\n",
              "      <td>296.748273</td>\n",
              "      <td>2276</td>\n",
              "      <td>208</td>\n",
              "      <td>0</td>\n",
              "      <td>2628.845068</td>\n",
              "      <td>1985.775061</td>\n",
              "      <td>28</td>\n",
              "      <td>19</td>\n",
              "      <td>Android</td>\n",
              "    </tr>\n",
              "    <tr>\n",
              "      <th>1</th>\n",
              "      <td>1</td>\n",
              "      <td>retained</td>\n",
              "      <td>133</td>\n",
              "      <td>107</td>\n",
              "      <td>326.896596</td>\n",
              "      <td>1225</td>\n",
              "      <td>19</td>\n",
              "      <td>64</td>\n",
              "      <td>13715.920550</td>\n",
              "      <td>3160.472914</td>\n",
              "      <td>13</td>\n",
              "      <td>11</td>\n",
              "      <td>iPhone</td>\n",
              "    </tr>\n",
              "    <tr>\n",
              "      <th>2</th>\n",
              "      <td>2</td>\n",
              "      <td>retained</td>\n",
              "      <td>114</td>\n",
              "      <td>95</td>\n",
              "      <td>135.522926</td>\n",
              "      <td>2651</td>\n",
              "      <td>0</td>\n",
              "      <td>0</td>\n",
              "      <td>3059.148818</td>\n",
              "      <td>1610.735904</td>\n",
              "      <td>14</td>\n",
              "      <td>8</td>\n",
              "      <td>Android</td>\n",
              "    </tr>\n",
              "    <tr>\n",
              "      <th>3</th>\n",
              "      <td>3</td>\n",
              "      <td>retained</td>\n",
              "      <td>49</td>\n",
              "      <td>40</td>\n",
              "      <td>67.589221</td>\n",
              "      <td>15</td>\n",
              "      <td>322</td>\n",
              "      <td>7</td>\n",
              "      <td>913.591123</td>\n",
              "      <td>587.196542</td>\n",
              "      <td>7</td>\n",
              "      <td>3</td>\n",
              "      <td>iPhone</td>\n",
              "    </tr>\n",
              "    <tr>\n",
              "      <th>4</th>\n",
              "      <td>4</td>\n",
              "      <td>retained</td>\n",
              "      <td>84</td>\n",
              "      <td>68</td>\n",
              "      <td>168.247020</td>\n",
              "      <td>1562</td>\n",
              "      <td>166</td>\n",
              "      <td>5</td>\n",
              "      <td>3950.202008</td>\n",
              "      <td>1219.555924</td>\n",
              "      <td>27</td>\n",
              "      <td>18</td>\n",
              "      <td>Android</td>\n",
              "    </tr>\n",
              "    <tr>\n",
              "      <th>5</th>\n",
              "      <td>5</td>\n",
              "      <td>retained</td>\n",
              "      <td>113</td>\n",
              "      <td>103</td>\n",
              "      <td>279.544437</td>\n",
              "      <td>2637</td>\n",
              "      <td>0</td>\n",
              "      <td>0</td>\n",
              "      <td>901.238699</td>\n",
              "      <td>439.101397</td>\n",
              "      <td>15</td>\n",
              "      <td>11</td>\n",
              "      <td>iPhone</td>\n",
              "    </tr>\n",
              "    <tr>\n",
              "      <th>6</th>\n",
              "      <td>6</td>\n",
              "      <td>retained</td>\n",
              "      <td>3</td>\n",
              "      <td>2</td>\n",
              "      <td>236.725314</td>\n",
              "      <td>360</td>\n",
              "      <td>185</td>\n",
              "      <td>18</td>\n",
              "      <td>5249.172828</td>\n",
              "      <td>726.577205</td>\n",
              "      <td>28</td>\n",
              "      <td>23</td>\n",
              "      <td>iPhone</td>\n",
              "    </tr>\n",
              "    <tr>\n",
              "      <th>7</th>\n",
              "      <td>7</td>\n",
              "      <td>retained</td>\n",
              "      <td>39</td>\n",
              "      <td>35</td>\n",
              "      <td>176.072845</td>\n",
              "      <td>2999</td>\n",
              "      <td>0</td>\n",
              "      <td>0</td>\n",
              "      <td>7892.052468</td>\n",
              "      <td>2466.981741</td>\n",
              "      <td>22</td>\n",
              "      <td>20</td>\n",
              "      <td>iPhone</td>\n",
              "    </tr>\n",
              "    <tr>\n",
              "      <th>8</th>\n",
              "      <td>8</td>\n",
              "      <td>retained</td>\n",
              "      <td>57</td>\n",
              "      <td>46</td>\n",
              "      <td>183.532018</td>\n",
              "      <td>424</td>\n",
              "      <td>0</td>\n",
              "      <td>26</td>\n",
              "      <td>2651.709764</td>\n",
              "      <td>1594.342984</td>\n",
              "      <td>25</td>\n",
              "      <td>20</td>\n",
              "      <td>Android</td>\n",
              "    </tr>\n",
              "    <tr>\n",
              "      <th>9</th>\n",
              "      <td>9</td>\n",
              "      <td>churned</td>\n",
              "      <td>84</td>\n",
              "      <td>68</td>\n",
              "      <td>244.802115</td>\n",
              "      <td>2997</td>\n",
              "      <td>72</td>\n",
              "      <td>0</td>\n",
              "      <td>6043.460295</td>\n",
              "      <td>2341.838528</td>\n",
              "      <td>7</td>\n",
              "      <td>3</td>\n",
              "      <td>iPhone</td>\n",
              "    </tr>\n",
              "  </tbody>\n",
              "</table>\n",
              "</div>\n",
              "    <div class=\"colab-df-buttons\">\n",
              "\n",
              "  <div class=\"colab-df-container\">\n",
              "    <button class=\"colab-df-convert\" onclick=\"convertToInteractive('df-32bbab54-0f5d-43f1-bb05-0c0676c3c1f0')\"\n",
              "            title=\"Convert this dataframe to an interactive table.\"\n",
              "            style=\"display:none;\">\n",
              "\n",
              "  <svg xmlns=\"http://www.w3.org/2000/svg\" height=\"24px\" viewBox=\"0 -960 960 960\">\n",
              "    <path d=\"M120-120v-720h720v720H120Zm60-500h600v-160H180v160Zm220 220h160v-160H400v160Zm0 220h160v-160H400v160ZM180-400h160v-160H180v160Zm440 0h160v-160H620v160ZM180-180h160v-160H180v160Zm440 0h160v-160H620v160Z\"/>\n",
              "  </svg>\n",
              "    </button>\n",
              "\n",
              "  <style>\n",
              "    .colab-df-container {\n",
              "      display:flex;\n",
              "      gap: 12px;\n",
              "    }\n",
              "\n",
              "    .colab-df-convert {\n",
              "      background-color: #E8F0FE;\n",
              "      border: none;\n",
              "      border-radius: 50%;\n",
              "      cursor: pointer;\n",
              "      display: none;\n",
              "      fill: #1967D2;\n",
              "      height: 32px;\n",
              "      padding: 0 0 0 0;\n",
              "      width: 32px;\n",
              "    }\n",
              "\n",
              "    .colab-df-convert:hover {\n",
              "      background-color: #E2EBFA;\n",
              "      box-shadow: 0px 1px 2px rgba(60, 64, 67, 0.3), 0px 1px 3px 1px rgba(60, 64, 67, 0.15);\n",
              "      fill: #174EA6;\n",
              "    }\n",
              "\n",
              "    .colab-df-buttons div {\n",
              "      margin-bottom: 4px;\n",
              "    }\n",
              "\n",
              "    [theme=dark] .colab-df-convert {\n",
              "      background-color: #3B4455;\n",
              "      fill: #D2E3FC;\n",
              "    }\n",
              "\n",
              "    [theme=dark] .colab-df-convert:hover {\n",
              "      background-color: #434B5C;\n",
              "      box-shadow: 0px 1px 3px 1px rgba(0, 0, 0, 0.15);\n",
              "      filter: drop-shadow(0px 1px 2px rgba(0, 0, 0, 0.3));\n",
              "      fill: #FFFFFF;\n",
              "    }\n",
              "  </style>\n",
              "\n",
              "    <script>\n",
              "      const buttonEl =\n",
              "        document.querySelector('#df-32bbab54-0f5d-43f1-bb05-0c0676c3c1f0 button.colab-df-convert');\n",
              "      buttonEl.style.display =\n",
              "        google.colab.kernel.accessAllowed ? 'block' : 'none';\n",
              "\n",
              "      async function convertToInteractive(key) {\n",
              "        const element = document.querySelector('#df-32bbab54-0f5d-43f1-bb05-0c0676c3c1f0');\n",
              "        const dataTable =\n",
              "          await google.colab.kernel.invokeFunction('convertToInteractive',\n",
              "                                                    [key], {});\n",
              "        if (!dataTable) return;\n",
              "\n",
              "        const docLinkHtml = 'Like what you see? Visit the ' +\n",
              "          '<a target=\"_blank\" href=https://colab.research.google.com/notebooks/data_table.ipynb>data table notebook</a>'\n",
              "          + ' to learn more about interactive tables.';\n",
              "        element.innerHTML = '';\n",
              "        dataTable['output_type'] = 'display_data';\n",
              "        await google.colab.output.renderOutput(dataTable, element);\n",
              "        const docLink = document.createElement('div');\n",
              "        docLink.innerHTML = docLinkHtml;\n",
              "        element.appendChild(docLink);\n",
              "      }\n",
              "    </script>\n",
              "  </div>\n",
              "\n",
              "\n",
              "<div id=\"df-134d11c7-6ddf-4eeb-9d47-ff40ce9174c8\">\n",
              "  <button class=\"colab-df-quickchart\" onclick=\"quickchart('df-134d11c7-6ddf-4eeb-9d47-ff40ce9174c8')\"\n",
              "            title=\"Suggest charts\"\n",
              "            style=\"display:none;\">\n",
              "\n",
              "<svg xmlns=\"http://www.w3.org/2000/svg\" height=\"24px\"viewBox=\"0 0 24 24\"\n",
              "     width=\"24px\">\n",
              "    <g>\n",
              "        <path d=\"M19 3H5c-1.1 0-2 .9-2 2v14c0 1.1.9 2 2 2h14c1.1 0 2-.9 2-2V5c0-1.1-.9-2-2-2zM9 17H7v-7h2v7zm4 0h-2V7h2v10zm4 0h-2v-4h2v4z\"/>\n",
              "    </g>\n",
              "</svg>\n",
              "  </button>\n",
              "\n",
              "<style>\n",
              "  .colab-df-quickchart {\n",
              "      --bg-color: #E8F0FE;\n",
              "      --fill-color: #1967D2;\n",
              "      --hover-bg-color: #E2EBFA;\n",
              "      --hover-fill-color: #174EA6;\n",
              "      --disabled-fill-color: #AAA;\n",
              "      --disabled-bg-color: #DDD;\n",
              "  }\n",
              "\n",
              "  [theme=dark] .colab-df-quickchart {\n",
              "      --bg-color: #3B4455;\n",
              "      --fill-color: #D2E3FC;\n",
              "      --hover-bg-color: #434B5C;\n",
              "      --hover-fill-color: #FFFFFF;\n",
              "      --disabled-bg-color: #3B4455;\n",
              "      --disabled-fill-color: #666;\n",
              "  }\n",
              "\n",
              "  .colab-df-quickchart {\n",
              "    background-color: var(--bg-color);\n",
              "    border: none;\n",
              "    border-radius: 50%;\n",
              "    cursor: pointer;\n",
              "    display: none;\n",
              "    fill: var(--fill-color);\n",
              "    height: 32px;\n",
              "    padding: 0;\n",
              "    width: 32px;\n",
              "  }\n",
              "\n",
              "  .colab-df-quickchart:hover {\n",
              "    background-color: var(--hover-bg-color);\n",
              "    box-shadow: 0 1px 2px rgba(60, 64, 67, 0.3), 0 1px 3px 1px rgba(60, 64, 67, 0.15);\n",
              "    fill: var(--button-hover-fill-color);\n",
              "  }\n",
              "\n",
              "  .colab-df-quickchart-complete:disabled,\n",
              "  .colab-df-quickchart-complete:disabled:hover {\n",
              "    background-color: var(--disabled-bg-color);\n",
              "    fill: var(--disabled-fill-color);\n",
              "    box-shadow: none;\n",
              "  }\n",
              "\n",
              "  .colab-df-spinner {\n",
              "    border: 2px solid var(--fill-color);\n",
              "    border-color: transparent;\n",
              "    border-bottom-color: var(--fill-color);\n",
              "    animation:\n",
              "      spin 1s steps(1) infinite;\n",
              "  }\n",
              "\n",
              "  @keyframes spin {\n",
              "    0% {\n",
              "      border-color: transparent;\n",
              "      border-bottom-color: var(--fill-color);\n",
              "      border-left-color: var(--fill-color);\n",
              "    }\n",
              "    20% {\n",
              "      border-color: transparent;\n",
              "      border-left-color: var(--fill-color);\n",
              "      border-top-color: var(--fill-color);\n",
              "    }\n",
              "    30% {\n",
              "      border-color: transparent;\n",
              "      border-left-color: var(--fill-color);\n",
              "      border-top-color: var(--fill-color);\n",
              "      border-right-color: var(--fill-color);\n",
              "    }\n",
              "    40% {\n",
              "      border-color: transparent;\n",
              "      border-right-color: var(--fill-color);\n",
              "      border-top-color: var(--fill-color);\n",
              "    }\n",
              "    60% {\n",
              "      border-color: transparent;\n",
              "      border-right-color: var(--fill-color);\n",
              "    }\n",
              "    80% {\n",
              "      border-color: transparent;\n",
              "      border-right-color: var(--fill-color);\n",
              "      border-bottom-color: var(--fill-color);\n",
              "    }\n",
              "    90% {\n",
              "      border-color: transparent;\n",
              "      border-bottom-color: var(--fill-color);\n",
              "    }\n",
              "  }\n",
              "</style>\n",
              "\n",
              "  <script>\n",
              "    async function quickchart(key) {\n",
              "      const quickchartButtonEl =\n",
              "        document.querySelector('#' + key + ' button');\n",
              "      quickchartButtonEl.disabled = true;  // To prevent multiple clicks.\n",
              "      quickchartButtonEl.classList.add('colab-df-spinner');\n",
              "      try {\n",
              "        const charts = await google.colab.kernel.invokeFunction(\n",
              "            'suggestCharts', [key], {});\n",
              "      } catch (error) {\n",
              "        console.error('Error during call to suggestCharts:', error);\n",
              "      }\n",
              "      quickchartButtonEl.classList.remove('colab-df-spinner');\n",
              "      quickchartButtonEl.classList.add('colab-df-quickchart-complete');\n",
              "    }\n",
              "    (() => {\n",
              "      let quickchartButtonEl =\n",
              "        document.querySelector('#df-134d11c7-6ddf-4eeb-9d47-ff40ce9174c8 button');\n",
              "      quickchartButtonEl.style.display =\n",
              "        google.colab.kernel.accessAllowed ? 'block' : 'none';\n",
              "    })();\n",
              "  </script>\n",
              "</div>\n",
              "\n",
              "    </div>\n",
              "  </div>\n"
            ]
          },
          "metadata": {},
          "execution_count": 3
        }
      ],
      "source": [
        "df.head(10)"
      ]
    },
    {
      "cell_type": "code",
      "execution_count": null,
      "metadata": {
        "colab": {
          "base_uri": "https://localhost:8080/"
        },
        "id": "GvT82D1qyF9F",
        "outputId": "2c4eb3a0-0e08-4544-df68-ccf95a6ab2b1"
      },
      "outputs": [
        {
          "output_type": "execute_result",
          "data": {
            "text/plain": [
              "194987"
            ]
          },
          "metadata": {},
          "execution_count": 4
        }
      ],
      "source": [
        "df.size"
      ]
    },
    {
      "cell_type": "code",
      "execution_count": null,
      "metadata": {
        "colab": {
          "base_uri": "https://localhost:8080/",
          "height": 394
        },
        "id": "xMpkdNQ0UPmW",
        "outputId": "c1c184c7-220f-4eee-a2ae-a9c71207212f"
      },
      "outputs": [
        {
          "output_type": "execute_result",
          "data": {
            "text/plain": [
              "                           count         mean          std        min  \\\n",
              "ID                       14999.0  7499.000000  4329.982679   0.000000   \n",
              "sessions                 14999.0    80.633776    80.699065   0.000000   \n",
              "drives                   14999.0    67.281152    65.913872   0.000000   \n",
              "total_sessions           14999.0   189.964447   136.405128   0.220211   \n",
              "n_days_after_onboarding  14999.0  1749.837789  1008.513876   4.000000   \n",
              "total_navigations_fav1   14999.0   121.605974   148.121544   0.000000   \n",
              "total_navigations_fav2   14999.0    29.672512    45.394651   0.000000   \n",
              "driven_km_drives         14999.0  4039.340921  2502.149334  60.441250   \n",
              "duration_minutes_drives  14999.0  1860.976012  1446.702288  18.282082   \n",
              "activity_days            14999.0    15.537102     9.004655   0.000000   \n",
              "driving_days             14999.0    12.179879     7.824036   0.000000   \n",
              "\n",
              "                                 25%          50%           75%           max  \n",
              "ID                       3749.500000  7499.000000  11248.500000  14998.000000  \n",
              "sessions                   23.000000    56.000000    112.000000    743.000000  \n",
              "drives                     20.000000    48.000000     93.000000    596.000000  \n",
              "total_sessions             90.661156   159.568115    254.192341   1216.154633  \n",
              "n_days_after_onboarding   878.000000  1741.000000   2623.500000   3500.000000  \n",
              "total_navigations_fav1      9.000000    71.000000    178.000000   1236.000000  \n",
              "total_navigations_fav2      0.000000     9.000000     43.000000    415.000000  \n",
              "driven_km_drives         2212.600607  3493.858085   5289.861262  21183.401890  \n",
              "duration_minutes_drives   835.996260  1478.249859   2464.362632  15851.727160  \n",
              "activity_days               8.000000    16.000000     23.000000     31.000000  \n",
              "driving_days                5.000000    12.000000     19.000000     30.000000  "
            ],
            "text/html": [
              "\n",
              "  <div id=\"df-42be92c4-fbe1-4195-a4f0-6ade04a02a9e\" class=\"colab-df-container\">\n",
              "    <div>\n",
              "<style scoped>\n",
              "    .dataframe tbody tr th:only-of-type {\n",
              "        vertical-align: middle;\n",
              "    }\n",
              "\n",
              "    .dataframe tbody tr th {\n",
              "        vertical-align: top;\n",
              "    }\n",
              "\n",
              "    .dataframe thead th {\n",
              "        text-align: right;\n",
              "    }\n",
              "</style>\n",
              "<table border=\"1\" class=\"dataframe\">\n",
              "  <thead>\n",
              "    <tr style=\"text-align: right;\">\n",
              "      <th></th>\n",
              "      <th>count</th>\n",
              "      <th>mean</th>\n",
              "      <th>std</th>\n",
              "      <th>min</th>\n",
              "      <th>25%</th>\n",
              "      <th>50%</th>\n",
              "      <th>75%</th>\n",
              "      <th>max</th>\n",
              "    </tr>\n",
              "  </thead>\n",
              "  <tbody>\n",
              "    <tr>\n",
              "      <th>ID</th>\n",
              "      <td>14999.0</td>\n",
              "      <td>7499.000000</td>\n",
              "      <td>4329.982679</td>\n",
              "      <td>0.000000</td>\n",
              "      <td>3749.500000</td>\n",
              "      <td>7499.000000</td>\n",
              "      <td>11248.500000</td>\n",
              "      <td>14998.000000</td>\n",
              "    </tr>\n",
              "    <tr>\n",
              "      <th>sessions</th>\n",
              "      <td>14999.0</td>\n",
              "      <td>80.633776</td>\n",
              "      <td>80.699065</td>\n",
              "      <td>0.000000</td>\n",
              "      <td>23.000000</td>\n",
              "      <td>56.000000</td>\n",
              "      <td>112.000000</td>\n",
              "      <td>743.000000</td>\n",
              "    </tr>\n",
              "    <tr>\n",
              "      <th>drives</th>\n",
              "      <td>14999.0</td>\n",
              "      <td>67.281152</td>\n",
              "      <td>65.913872</td>\n",
              "      <td>0.000000</td>\n",
              "      <td>20.000000</td>\n",
              "      <td>48.000000</td>\n",
              "      <td>93.000000</td>\n",
              "      <td>596.000000</td>\n",
              "    </tr>\n",
              "    <tr>\n",
              "      <th>total_sessions</th>\n",
              "      <td>14999.0</td>\n",
              "      <td>189.964447</td>\n",
              "      <td>136.405128</td>\n",
              "      <td>0.220211</td>\n",
              "      <td>90.661156</td>\n",
              "      <td>159.568115</td>\n",
              "      <td>254.192341</td>\n",
              "      <td>1216.154633</td>\n",
              "    </tr>\n",
              "    <tr>\n",
              "      <th>n_days_after_onboarding</th>\n",
              "      <td>14999.0</td>\n",
              "      <td>1749.837789</td>\n",
              "      <td>1008.513876</td>\n",
              "      <td>4.000000</td>\n",
              "      <td>878.000000</td>\n",
              "      <td>1741.000000</td>\n",
              "      <td>2623.500000</td>\n",
              "      <td>3500.000000</td>\n",
              "    </tr>\n",
              "    <tr>\n",
              "      <th>total_navigations_fav1</th>\n",
              "      <td>14999.0</td>\n",
              "      <td>121.605974</td>\n",
              "      <td>148.121544</td>\n",
              "      <td>0.000000</td>\n",
              "      <td>9.000000</td>\n",
              "      <td>71.000000</td>\n",
              "      <td>178.000000</td>\n",
              "      <td>1236.000000</td>\n",
              "    </tr>\n",
              "    <tr>\n",
              "      <th>total_navigations_fav2</th>\n",
              "      <td>14999.0</td>\n",
              "      <td>29.672512</td>\n",
              "      <td>45.394651</td>\n",
              "      <td>0.000000</td>\n",
              "      <td>0.000000</td>\n",
              "      <td>9.000000</td>\n",
              "      <td>43.000000</td>\n",
              "      <td>415.000000</td>\n",
              "    </tr>\n",
              "    <tr>\n",
              "      <th>driven_km_drives</th>\n",
              "      <td>14999.0</td>\n",
              "      <td>4039.340921</td>\n",
              "      <td>2502.149334</td>\n",
              "      <td>60.441250</td>\n",
              "      <td>2212.600607</td>\n",
              "      <td>3493.858085</td>\n",
              "      <td>5289.861262</td>\n",
              "      <td>21183.401890</td>\n",
              "    </tr>\n",
              "    <tr>\n",
              "      <th>duration_minutes_drives</th>\n",
              "      <td>14999.0</td>\n",
              "      <td>1860.976012</td>\n",
              "      <td>1446.702288</td>\n",
              "      <td>18.282082</td>\n",
              "      <td>835.996260</td>\n",
              "      <td>1478.249859</td>\n",
              "      <td>2464.362632</td>\n",
              "      <td>15851.727160</td>\n",
              "    </tr>\n",
              "    <tr>\n",
              "      <th>activity_days</th>\n",
              "      <td>14999.0</td>\n",
              "      <td>15.537102</td>\n",
              "      <td>9.004655</td>\n",
              "      <td>0.000000</td>\n",
              "      <td>8.000000</td>\n",
              "      <td>16.000000</td>\n",
              "      <td>23.000000</td>\n",
              "      <td>31.000000</td>\n",
              "    </tr>\n",
              "    <tr>\n",
              "      <th>driving_days</th>\n",
              "      <td>14999.0</td>\n",
              "      <td>12.179879</td>\n",
              "      <td>7.824036</td>\n",
              "      <td>0.000000</td>\n",
              "      <td>5.000000</td>\n",
              "      <td>12.000000</td>\n",
              "      <td>19.000000</td>\n",
              "      <td>30.000000</td>\n",
              "    </tr>\n",
              "  </tbody>\n",
              "</table>\n",
              "</div>\n",
              "    <div class=\"colab-df-buttons\">\n",
              "\n",
              "  <div class=\"colab-df-container\">\n",
              "    <button class=\"colab-df-convert\" onclick=\"convertToInteractive('df-42be92c4-fbe1-4195-a4f0-6ade04a02a9e')\"\n",
              "            title=\"Convert this dataframe to an interactive table.\"\n",
              "            style=\"display:none;\">\n",
              "\n",
              "  <svg xmlns=\"http://www.w3.org/2000/svg\" height=\"24px\" viewBox=\"0 -960 960 960\">\n",
              "    <path d=\"M120-120v-720h720v720H120Zm60-500h600v-160H180v160Zm220 220h160v-160H400v160Zm0 220h160v-160H400v160ZM180-400h160v-160H180v160Zm440 0h160v-160H620v160ZM180-180h160v-160H180v160Zm440 0h160v-160H620v160Z\"/>\n",
              "  </svg>\n",
              "    </button>\n",
              "\n",
              "  <style>\n",
              "    .colab-df-container {\n",
              "      display:flex;\n",
              "      gap: 12px;\n",
              "    }\n",
              "\n",
              "    .colab-df-convert {\n",
              "      background-color: #E8F0FE;\n",
              "      border: none;\n",
              "      border-radius: 50%;\n",
              "      cursor: pointer;\n",
              "      display: none;\n",
              "      fill: #1967D2;\n",
              "      height: 32px;\n",
              "      padding: 0 0 0 0;\n",
              "      width: 32px;\n",
              "    }\n",
              "\n",
              "    .colab-df-convert:hover {\n",
              "      background-color: #E2EBFA;\n",
              "      box-shadow: 0px 1px 2px rgba(60, 64, 67, 0.3), 0px 1px 3px 1px rgba(60, 64, 67, 0.15);\n",
              "      fill: #174EA6;\n",
              "    }\n",
              "\n",
              "    .colab-df-buttons div {\n",
              "      margin-bottom: 4px;\n",
              "    }\n",
              "\n",
              "    [theme=dark] .colab-df-convert {\n",
              "      background-color: #3B4455;\n",
              "      fill: #D2E3FC;\n",
              "    }\n",
              "\n",
              "    [theme=dark] .colab-df-convert:hover {\n",
              "      background-color: #434B5C;\n",
              "      box-shadow: 0px 1px 3px 1px rgba(0, 0, 0, 0.15);\n",
              "      filter: drop-shadow(0px 1px 2px rgba(0, 0, 0, 0.3));\n",
              "      fill: #FFFFFF;\n",
              "    }\n",
              "  </style>\n",
              "\n",
              "    <script>\n",
              "      const buttonEl =\n",
              "        document.querySelector('#df-42be92c4-fbe1-4195-a4f0-6ade04a02a9e button.colab-df-convert');\n",
              "      buttonEl.style.display =\n",
              "        google.colab.kernel.accessAllowed ? 'block' : 'none';\n",
              "\n",
              "      async function convertToInteractive(key) {\n",
              "        const element = document.querySelector('#df-42be92c4-fbe1-4195-a4f0-6ade04a02a9e');\n",
              "        const dataTable =\n",
              "          await google.colab.kernel.invokeFunction('convertToInteractive',\n",
              "                                                    [key], {});\n",
              "        if (!dataTable) return;\n",
              "\n",
              "        const docLinkHtml = 'Like what you see? Visit the ' +\n",
              "          '<a target=\"_blank\" href=https://colab.research.google.com/notebooks/data_table.ipynb>data table notebook</a>'\n",
              "          + ' to learn more about interactive tables.';\n",
              "        element.innerHTML = '';\n",
              "        dataTable['output_type'] = 'display_data';\n",
              "        await google.colab.output.renderOutput(dataTable, element);\n",
              "        const docLink = document.createElement('div');\n",
              "        docLink.innerHTML = docLinkHtml;\n",
              "        element.appendChild(docLink);\n",
              "      }\n",
              "    </script>\n",
              "  </div>\n",
              "\n",
              "\n",
              "<div id=\"df-d4ac54c1-f225-4a1b-b575-b512c0eea7f6\">\n",
              "  <button class=\"colab-df-quickchart\" onclick=\"quickchart('df-d4ac54c1-f225-4a1b-b575-b512c0eea7f6')\"\n",
              "            title=\"Suggest charts\"\n",
              "            style=\"display:none;\">\n",
              "\n",
              "<svg xmlns=\"http://www.w3.org/2000/svg\" height=\"24px\"viewBox=\"0 0 24 24\"\n",
              "     width=\"24px\">\n",
              "    <g>\n",
              "        <path d=\"M19 3H5c-1.1 0-2 .9-2 2v14c0 1.1.9 2 2 2h14c1.1 0 2-.9 2-2V5c0-1.1-.9-2-2-2zM9 17H7v-7h2v7zm4 0h-2V7h2v10zm4 0h-2v-4h2v4z\"/>\n",
              "    </g>\n",
              "</svg>\n",
              "  </button>\n",
              "\n",
              "<style>\n",
              "  .colab-df-quickchart {\n",
              "      --bg-color: #E8F0FE;\n",
              "      --fill-color: #1967D2;\n",
              "      --hover-bg-color: #E2EBFA;\n",
              "      --hover-fill-color: #174EA6;\n",
              "      --disabled-fill-color: #AAA;\n",
              "      --disabled-bg-color: #DDD;\n",
              "  }\n",
              "\n",
              "  [theme=dark] .colab-df-quickchart {\n",
              "      --bg-color: #3B4455;\n",
              "      --fill-color: #D2E3FC;\n",
              "      --hover-bg-color: #434B5C;\n",
              "      --hover-fill-color: #FFFFFF;\n",
              "      --disabled-bg-color: #3B4455;\n",
              "      --disabled-fill-color: #666;\n",
              "  }\n",
              "\n",
              "  .colab-df-quickchart {\n",
              "    background-color: var(--bg-color);\n",
              "    border: none;\n",
              "    border-radius: 50%;\n",
              "    cursor: pointer;\n",
              "    display: none;\n",
              "    fill: var(--fill-color);\n",
              "    height: 32px;\n",
              "    padding: 0;\n",
              "    width: 32px;\n",
              "  }\n",
              "\n",
              "  .colab-df-quickchart:hover {\n",
              "    background-color: var(--hover-bg-color);\n",
              "    box-shadow: 0 1px 2px rgba(60, 64, 67, 0.3), 0 1px 3px 1px rgba(60, 64, 67, 0.15);\n",
              "    fill: var(--button-hover-fill-color);\n",
              "  }\n",
              "\n",
              "  .colab-df-quickchart-complete:disabled,\n",
              "  .colab-df-quickchart-complete:disabled:hover {\n",
              "    background-color: var(--disabled-bg-color);\n",
              "    fill: var(--disabled-fill-color);\n",
              "    box-shadow: none;\n",
              "  }\n",
              "\n",
              "  .colab-df-spinner {\n",
              "    border: 2px solid var(--fill-color);\n",
              "    border-color: transparent;\n",
              "    border-bottom-color: var(--fill-color);\n",
              "    animation:\n",
              "      spin 1s steps(1) infinite;\n",
              "  }\n",
              "\n",
              "  @keyframes spin {\n",
              "    0% {\n",
              "      border-color: transparent;\n",
              "      border-bottom-color: var(--fill-color);\n",
              "      border-left-color: var(--fill-color);\n",
              "    }\n",
              "    20% {\n",
              "      border-color: transparent;\n",
              "      border-left-color: var(--fill-color);\n",
              "      border-top-color: var(--fill-color);\n",
              "    }\n",
              "    30% {\n",
              "      border-color: transparent;\n",
              "      border-left-color: var(--fill-color);\n",
              "      border-top-color: var(--fill-color);\n",
              "      border-right-color: var(--fill-color);\n",
              "    }\n",
              "    40% {\n",
              "      border-color: transparent;\n",
              "      border-right-color: var(--fill-color);\n",
              "      border-top-color: var(--fill-color);\n",
              "    }\n",
              "    60% {\n",
              "      border-color: transparent;\n",
              "      border-right-color: var(--fill-color);\n",
              "    }\n",
              "    80% {\n",
              "      border-color: transparent;\n",
              "      border-right-color: var(--fill-color);\n",
              "      border-bottom-color: var(--fill-color);\n",
              "    }\n",
              "    90% {\n",
              "      border-color: transparent;\n",
              "      border-bottom-color: var(--fill-color);\n",
              "    }\n",
              "  }\n",
              "</style>\n",
              "\n",
              "  <script>\n",
              "    async function quickchart(key) {\n",
              "      const quickchartButtonEl =\n",
              "        document.querySelector('#' + key + ' button');\n",
              "      quickchartButtonEl.disabled = true;  // To prevent multiple clicks.\n",
              "      quickchartButtonEl.classList.add('colab-df-spinner');\n",
              "      try {\n",
              "        const charts = await google.colab.kernel.invokeFunction(\n",
              "            'suggestCharts', [key], {});\n",
              "      } catch (error) {\n",
              "        console.error('Error during call to suggestCharts:', error);\n",
              "      }\n",
              "      quickchartButtonEl.classList.remove('colab-df-spinner');\n",
              "      quickchartButtonEl.classList.add('colab-df-quickchart-complete');\n",
              "    }\n",
              "    (() => {\n",
              "      let quickchartButtonEl =\n",
              "        document.querySelector('#df-d4ac54c1-f225-4a1b-b575-b512c0eea7f6 button');\n",
              "      quickchartButtonEl.style.display =\n",
              "        google.colab.kernel.accessAllowed ? 'block' : 'none';\n",
              "    })();\n",
              "  </script>\n",
              "</div>\n",
              "\n",
              "    </div>\n",
              "  </div>\n"
            ]
          },
          "metadata": {},
          "execution_count": 6
        }
      ],
      "source": [
        "df.describe().T"
      ]
    },
    {
      "cell_type": "code",
      "execution_count": null,
      "metadata": {
        "colab": {
          "base_uri": "https://localhost:8080/"
        },
        "id": "Thlb8oiyUPwe",
        "outputId": "838d0ed0-4606-4082-cc30-2c19ef4ec4f4"
      },
      "outputs": [
        {
          "output_type": "stream",
          "name": "stdout",
          "text": [
            "<class 'pandas.core.frame.DataFrame'>\n",
            "RangeIndex: 14999 entries, 0 to 14998\n",
            "Data columns (total 13 columns):\n",
            " #   Column                   Non-Null Count  Dtype  \n",
            "---  ------                   --------------  -----  \n",
            " 0   ID                       14999 non-null  int64  \n",
            " 1   label                    14299 non-null  object \n",
            " 2   sessions                 14999 non-null  int64  \n",
            " 3   drives                   14999 non-null  int64  \n",
            " 4   total_sessions           14999 non-null  float64\n",
            " 5   n_days_after_onboarding  14999 non-null  int64  \n",
            " 6   total_navigations_fav1   14999 non-null  int64  \n",
            " 7   total_navigations_fav2   14999 non-null  int64  \n",
            " 8   driven_km_drives         14999 non-null  float64\n",
            " 9   duration_minutes_drives  14999 non-null  float64\n",
            " 10  activity_days            14999 non-null  int64  \n",
            " 11  driving_days             14999 non-null  int64  \n",
            " 12  device                   14999 non-null  object \n",
            "dtypes: float64(3), int64(8), object(2)\n",
            "memory usage: 1.5+ MB\n"
          ]
        }
      ],
      "source": [
        "df.info()"
      ]
    },
    {
      "cell_type": "markdown",
      "metadata": {
        "id": "OeVXoI4mOimv"
      },
      "source": [
        "\n",
        "\n",
        "## **PACE: Construir**\n",
        "\n"
      ]
    },
    {
      "cell_type": "markdown",
      "metadata": {
        "id": "4YcBN6ScPVpI"
      },
      "source": [
        "Considere as seguintes perguntas ao se preparar para lidar com outliers:\n",
        "\n",
        "1. Quais são algumas maneiras de identificar outliers?\n",
        "\n",
        "* Utilize funções do numpy para investigar mean() e median() dos dados e compreender a faixa de valores dos dados.\n",
        "* Utilize um boxplot para visualizar a distribuição dos dados.\n",
        "\n",
        "2. Como você decide manter ou excluir outliers de futuros modelos?\n",
        "\n",
        "* Existem três opções principais para lidar com outliers: mantê-los como estão, excluí-los ou reatribuir valores. A decisão de manter outliers, excluí-los ou reatribuir valores é tomada caso a caso, dependendo dos objetivos do modelo que você planeja construir.\n",
        "\n",
        "Para orientar essa decisão, você pode seguir estas diretrizes gerais:\n",
        "\n",
        "* Excluir: Se tiver certeza de que os outliers são erros, digitações incorretas ou falhas, e o conjunto de dados será usado para modelagem ou aprendizado de máquina, provavelmente decidirá excluí-los. Destas opções, essa será a menos utilizada.\n",
        "* Reatribuir: Se o conjunto de dados for pequeno e/ou os dados serão usados para modelagem ou aprendizado de máquina, é mais provável que escolha derivar novos valores para substituir os outliers.\n",
        "* Manter: Para um conjunto de dados que você planeja explorar ou analisar e nada mais, ou para um conjunto de dados que está sendo preparado para um modelo resistente a outliers, é mais provável que opte por deixá-los."
      ]
    },
    {
      "cell_type": "markdown",
      "metadata": {
        "id": "2YdC51QBSG2v"
      },
      "source": [
        "### **Tarefa 3a. Visualizações**\n",
        "\n",
        "Selecione tipos de visualizações de dados que o ajudarão a entender e explicar os dados.\n",
        "\n",
        "Agora que você sabe quais colunas de dados utilizará, é hora de decidir qual visualização de dados faz mais sentido para a Análise Exploratória de Dados (EDA) do conjunto de dados do Waze.\n",
        "\n",
        "Pergunta: Que tipo(s) de visualização de dados será(ão) mais útil(eis)?\n",
        "\n",
        "Os box plots serão úteis para identificar outliers e onde a maioria dos pontos de dados reside em termos de viagens, sessões e todas as outras variáveis numéricas contínuas.\n",
        "\n",
        "Histogramas são essenciais para compreender a distribuição das variáveis.\n",
        "\n",
        "Gráficos de dispersão serão úteis para visualizar relações entre variáveis.\n",
        "\n",
        "Gráficos de barras são úteis para comunicar níveis e quantidades, especialmente para informações categóricas.\n",
        "\n"
      ]
    },
    {
      "cell_type": "markdown",
      "metadata": {
        "id": "Wa-IoAHLUWi8"
      },
      "source": [
        ">Comece examinando a dispersão e distribuição de variáveis importantes usando box plots e histogramas.\n"
      ]
    },
    {
      "cell_type": "markdown",
      "metadata": {
        "id": "ZCMx5hwTGr4S"
      },
      "source": [
        "#### **`sessions`**\n",
        "\n",
        "_O número de ocorrências de um usuário abrindo o aplicativo durante o mês._"
      ]
    },
    {
      "cell_type": "code",
      "execution_count": null,
      "metadata": {
        "colab": {
          "base_uri": "https://localhost:8080/",
          "height": 179
        },
        "id": "qlUccI91a4NH",
        "outputId": "0c5af601-7b03-46eb-b879-1f8a17a0d90d"
      },
      "outputs": [
        {
          "output_type": "display_data",
          "data": {
            "text/plain": [
              "<Figure size 500x100 with 1 Axes>"
            ],
            "image/png": "[encoded data removed]"
          },
          "metadata": {}
        }
      ],
      "source": [
        "# Boxplot\n",
        "plt.figure(figsize=(5,1))\n",
        "sns.boxplot(x=df['sessions'], fliersize=1)\n",
        "plt.title('Boxplot de sessions')"
      ]
    },
    {
      "cell_type": "code",
      "execution_count": null,
      "metadata": {
        "colab": {
          "base_uri": "https://localhost:8080/",
          "height": 350
        },
        "id": "lre1PSxGHEAf",
        "outputId": "0ed293b7-72bb-4101-eb49-3ab0b892516a"
      },
      "outputs": [
        {
          "output_type": "execute_result",
          "data": {
            "text/plain": [
              "Text(0.5, 1.0, 'Histograma de sessions')"
            ]
          },
          "metadata": {},
          "execution_count": 14
        },
        {
          "output_type": "display_data",
          "data": {
            "text/plain": [
              "<Figure size 500x300 with 1 Axes>"
            ],
            "image/png": "[encoded data removed]"
          },
          "metadata": {}
        }
      ],
      "source": [
        "# Histograma\n",
        "plt.figure(figsize=(5,3))\n",
        "sns.histplot(x=df['sessions'])\n",
        "median = df['sessions'].median()\n",
        "plt.axvline(median, color='red', linestyle='--')\n",
        "plt.text(75,1200, f'Mediana: {median}', color='red')\n",
        "plt.title('Histograma de sessions')"
      ]
    },
    {
      "cell_type": "markdown",
      "metadata": {
        "id": "XISZlQQCH32e"
      },
      "source": [
        "A variável de `sessions` apresenta uma distribuição assimétrica à direita, com metade das observações tendo 56 acessos ou menos. No entanto, como indicado pelo boxplot, alguns usuários têm mais de 700 acessos."
      ]
    },
    {
      "cell_type": "markdown",
      "metadata": {
        "id": "MY_1yJy2QXFc"
      },
      "source": [
        "#### **`drives`**\n",
        "\n",
        "_Uma ocorrência de dirigir pelo menos 1 km durante o mês._"
      ]
    },
    {
      "cell_type": "code",
      "execution_count": null,
      "metadata": {
        "colab": {
          "base_uri": "https://localhost:8080/",
          "height": 179
        },
        "id": "J-MzUrNRQaK7",
        "outputId": "72cb4b34-e1e8-4aba-83b3-ccb34344744f"
      },
      "outputs": [
        {
          "output_type": "display_data",
          "data": {
            "text/plain": [
              "<Figure size 500x100 with 1 Axes>"
            ],
            "image/png": "[encoded data removed]"
          },
          "metadata": {}
        }
      ],
      "source": [
        "# Boxplot\n",
        "plt.figure(figsize=(5,1))\n",
        "sns.boxplot(x=df['drives'], fliersize=1)\n",
        "plt.title('Boxplot de drives');"
      ]
    },
    {
      "cell_type": "markdown",
      "metadata": {
        "id": "BbqEIWpl2USD"
      },
      "source": [
        "À medida que você realiza a Análise Exploratória de Dados (EDA), perceberá que muitas tarefas são repetitivas, como a criação de histogramas para diferentes características. Lembre-se de que, ao se deparar com a cópia/cola frequente de código, vale a pena considerar se uma função poderia tornar seu trabalho mais eficiente. Em alguns casos, pode não valer a pena; em outros, definir uma função pode ser de grande ajuda.\n",
        "\n",
        "O bloco de código a seguir define uma função que facilita a criação de histogramas com um estilo/formato específico usando este conjunto de dados específico. Não é obrigatório fazer isso, mas, neste caso, pode ser útil."
      ]
    },
    {
      "cell_type": "code",
      "execution_count": null,
      "metadata": {
        "id": "V9d5Y1cLQmgn"
      },
      "outputs": [],
      "source": [
        "# Função auxiliar para plotar histogramas com base no formato do histograma da coluna `sessions`\n",
        "\n",
        "def histograma(column_str, median_text=True, **kwargs):  # **kwargs = quaisquer argumentos de palavra-chave\n",
        "                                                           # da função sns.histplot()\n",
        "    mediana = round(df[column_str].median(), 1)\n",
        "    plt.figure(figsize=(5,3))\n",
        "    ax = sns.histplot(x=df[column_str], **kwargs)          # Plota o histograma\n",
        "    plt.axvline(mediana, color='red', linestyle='--')      # Plota a linha da mediana\n",
        "    if median_text == True:                                # Adiciona o texto da mediana, a menos que seja definido como False\n",
        "        ax.text(0.25, 0.85, f'mediana={mediana}', color='red',\n",
        "            ha='left', va='top', transform=ax.transAxes)\n",
        "    else:\n",
        "        print('Mediana:', mediana)\n",
        "    plt.title(f'Histograma de {column_str}')"
      ]
    },
    {
      "cell_type": "code",
      "execution_count": null,
      "metadata": {
        "colab": {
          "base_uri": "https://localhost:8080/",
          "height": 333
        },
        "id": "9esFup8mWhRh",
        "outputId": "7ab91860-4d55-40e1-b3c9-ad131a880f6e"
      },
      "outputs": [
        {
          "output_type": "display_data",
          "data": {
            "text/plain": [
              "<Figure size 500x300 with 1 Axes>"
            ],
            "image/png": "[encoded data removed]"
          },
          "metadata": {}
        }
      ],
      "source": [
        "# Histograma\n",
        "histograma('drives')"
      ]
    },
    {
      "cell_type": "markdown",
      "metadata": {
        "id": "FzlWEaWe1ei_"
      },
      "source": [
        "A informação sobre viagens segue uma distribuição semelhante à variável de sessões. É assimétrica à direita, aproximadamente log-normal, com uma mediana de 48. No entanto, alguns motoristas tiveram mais de 400 viagens no último mês."
      ]
    },
    {
      "cell_type": "markdown",
      "metadata": {
        "id": "eQ92YPHHYAPt"
      },
      "source": [
        "#### **`total_sessions`**\n",
        "\n",
        "_Uma estimativa do número total de sessões desde que um usuário começou a usar o aplicativo._"
      ]
    },
    {
      "cell_type": "code",
      "execution_count": null,
      "metadata": {
        "colab": {
          "base_uri": "https://localhost:8080/",
          "height": 179
        },
        "id": "Bzot3ke4YCE_",
        "outputId": "11bffe48-9040-4f95-a837-4f747b8b5881"
      },
      "outputs": [
        {
          "output_type": "display_data",
          "data": {
            "text/plain": [
              "<Figure size 500x100 with 1 Axes>"
            ],
            "image/png": "[encoded data removed]"
          },
          "metadata": {}
        }
      ],
      "source": [
        "# Boxplot\n",
        "plt.figure(figsize=(5,1))\n",
        "sns.boxplot(x=df['total_sessions'], fliersize=1)\n",
        "plt.title('Boxplot de total_sessions')"
      ]
    },
    {
      "cell_type": "code",
      "execution_count": null,
      "metadata": {
        "colab": {
          "base_uri": "https://localhost:8080/",
          "height": 333
        },
        "id": "3GhiwjgYYIhR",
        "outputId": "3d9fb450-1435-4ec6-fdba-7ecea5a3ef6a"
      },
      "outputs": [
        {
          "output_type": "display_data",
          "data": {
            "text/plain": [
              "<Figure size 500x300 with 1 Axes>"
            ],
            "image/png": "[encoded data removed]"
          },
          "metadata": {}
        }
      ],
      "source": [
        "# Histograma\n",
        "histograma('total_sessions')"
      ]
    },
    {
      "cell_type": "markdown",
      "metadata": {
        "id": "lccsBEsvYZoL"
      },
      "source": [
        "A distribuição de `total_sessions` é assimétrica à direita, com uma mediana de 159,6. Isso é interessante porque, se a mediana do número de sessões no último mês foi 56 e a mediana de `total_sessions` foi ~160, parece que uma grande proporção das (estimadas) viagens totais de um usuário pode ter ocorrido no último mês. Isso é algo que podemos examinar mais de perto posteriormente."
      ]
    },
    {
      "cell_type": "markdown",
      "metadata": {
        "id": "sYtPVTNJZXSE"
      },
      "source": [
        "#### **`n_days_after_onboarding`**\n",
        "\n",
        "_O número de dias desde que um usuário se cadastrou no aplicativo._"
      ]
    },
    {
      "cell_type": "code",
      "execution_count": null,
      "metadata": {
        "colab": {
          "base_uri": "https://localhost:8080/",
          "height": 179
        },
        "id": "8AsVyGPpZa4B",
        "outputId": "f061492e-3255-4bce-a5dc-c9a05fe8fe60"
      },
      "outputs": [
        {
          "output_type": "display_data",
          "data": {
            "text/plain": [
              "<Figure size 500x100 with 1 Axes>"
            ],
            "image/png": "[encoded data removed]"
          },
          "metadata": {}
        }
      ],
      "source": [
        "# Boxplot\n",
        "plt.figure(figsize=(5,1))\n",
        "sns.boxplot(x=df['n_days_after_onboarding'], fliersize=1)\n",
        "plt.title('Boxplot de n_days_after_onboarding')"
      ]
    },
    {
      "cell_type": "code",
      "execution_count": null,
      "metadata": {
        "colab": {
          "base_uri": "https://localhost:8080/",
          "height": 350
        },
        "id": "BD06UsgYnLnk",
        "outputId": "1086de01-360b-46c2-e28c-83fed9a92a9c"
      },
      "outputs": [
        {
          "output_type": "stream",
          "name": "stdout",
          "text": [
            "Mediana: 1741.0\n"
          ]
        },
        {
          "output_type": "display_data",
          "data": {
            "text/plain": [
              "<Figure size 500x300 with 1 Axes>"
            ],
            "image/png": "[encoded data removed]"
          },
          "metadata": {}
        }
      ],
      "source": [
        "# Histograma\n",
        "histograma('n_days_after_onboarding', median_text=False)"
      ]
    },
    {
      "cell_type": "markdown",
      "metadata": {
        "id": "NT-PFWKNaPSm"
      },
      "source": [
        "O tempo total de adesão do usuário (ou seja, número de dias desde a adesão) é uma distribuição uniforme com valores variando de quase zero a ~ 3.500 (~ 9,5 anos)."
      ]
    },
    {
      "cell_type": "markdown",
      "metadata": {
        "id": "geClcoQra7PG"
      },
      "source": [
        "#### **`driven_km_drives`**\n",
        "\n",
        "_Total de quilômetros dirigidos durante o mês._"
      ]
    },
    {
      "cell_type": "code",
      "execution_count": null,
      "metadata": {
        "colab": {
          "base_uri": "https://localhost:8080/",
          "height": 179
        },
        "id": "BnTR-vg8bRjM",
        "outputId": "e0e86e82-f5a4-49f4-fcb1-7d395c8f39f1"
      },
      "outputs": [
        {
          "output_type": "display_data",
          "data": {
            "text/plain": [
              "<Figure size 500x100 with 1 Axes>"
            ],
            "image/png": "[encoded data removed]"
          },
          "metadata": {}
        }
      ],
      "source": [
        "# Boxplot\n",
        "plt.figure(figsize=(5,1))\n",
        "sns.boxplot(x=df['driven_km_drives'], fliersize=1)\n",
        "plt.title('Boxplot de driven_km_drives')"
      ]
    },
    {
      "cell_type": "code",
      "execution_count": null,
      "metadata": {
        "colab": {
          "base_uri": "https://localhost:8080/",
          "height": 333
        },
        "id": "465Jo-bSbfGz",
        "outputId": "891c7ad3-f121-4c77-dfe5-4b4eb983b356"
      },
      "outputs": [
        {
          "output_type": "display_data",
          "data": {
            "text/plain": [
              "<Figure size 500x300 with 1 Axes>"
            ],
            "image/png": "[encoded data removed]"
          },
          "metadata": {}
        }
      ],
      "source": [
        "# Histograma\n",
        "histograma('driven_km_drives')"
      ]
    },
    {
      "cell_type": "markdown",
      "metadata": {
        "id": "9U3loBXKbyXC"
      },
      "source": [
        "The number of drives driven in the last month per user is a right-skewed distribution with half the users driving under 3,495 kilometers. As you discovered in the analysis from the previous course, the users in this dataset drive _a lot_. The longest distance driven in the month was over half the circumferene of the earth.\n",
        "\n",
        "O total de quilômetros dirigidos no último mês é uma distribuição assimétrica à direita, com metade dos usuários dirigindo menos de 3.495 km. Como descoberto na análise do curso anterior, os usuários deste conjunto de dados dirigem muito. A maior distância percorrida no mês foi mais da metade da circunferência da Terra."
      ]
    },
    {
      "cell_type": "markdown",
      "metadata": {
        "id": "HF6spYr1ceG4"
      },
      "source": [
        "#### **`duration_minutes_drives`**\n",
        "\n",
        "_Duração total dirigida em minutos durante o mês._"
      ]
    },
    {
      "cell_type": "code",
      "execution_count": null,
      "metadata": {
        "colab": {
          "base_uri": "https://localhost:8080/",
          "height": 179
        },
        "id": "jObOtNw4chqb",
        "outputId": "5f252c11-be04-4f72-99ed-104ae1ba5c68"
      },
      "outputs": [
        {
          "output_type": "display_data",
          "data": {
            "text/plain": [
              "<Figure size 500x100 with 1 Axes>"
            ],
            "image/png": "[encoded data removed]"
          },
          "metadata": {}
        }
      ],
      "source": [
        "# Boxplot\n",
        "plt.figure(figsize=(5,1))\n",
        "sns.boxplot(x=df['duration_minutes_drives'], fliersize=1)\n",
        "plt.title('Boxplot de duration_minutes_drives')"
      ]
    },
    {
      "cell_type": "code",
      "execution_count": null,
      "metadata": {
        "colab": {
          "base_uri": "https://localhost:8080/",
          "height": 333
        },
        "id": "hnNG1ma1co37",
        "outputId": "0809f2c7-a7f5-4373-9213-7e5705f65d53"
      },
      "outputs": [
        {
          "output_type": "display_data",
          "data": {
            "text/plain": [
              "<Figure size 500x300 with 1 Axes>"
            ],
            "image/png": "[encoded data removed]"
          },
          "metadata": {}
        }
      ],
      "source": [
        "# Histograma\n",
        "histograma('duration_minutes_drives')"
      ]
    },
    {
      "cell_type": "markdown",
      "metadata": {
        "id": "HTob-MxKdGmw"
      },
      "source": [
        "A variável `duration_minutes_drives` tem uma cauda direita fortemente assimétrica. Metade dos usuários dirigiu menos de ~ 1.478 minutos (~ 25 horas), mas alguns usuários acumularam mais de 250 horas durante o mês."
      ]
    },
    {
      "cell_type": "markdown",
      "metadata": {
        "id": "f0GhCxbUeIun"
      },
      "source": [
        "#### **`activity_days`**\n",
        "\n",
        "_Número de dias em que o usuário abre o aplicativo durante o mês._"
      ]
    },
    {
      "cell_type": "code",
      "execution_count": null,
      "metadata": {
        "colab": {
          "base_uri": "https://localhost:8080/",
          "height": 179
        },
        "id": "YOBFc6ExeL81",
        "outputId": "3cfbac61-beff-4a49-e8b5-4ad40bacda2b"
      },
      "outputs": [
        {
          "output_type": "display_data",
          "data": {
            "text/plain": [
              "<Figure size 500x100 with 1 Axes>"
            ],
            "image/png": "[encoded data removed]"
          },
          "metadata": {}
        }
      ],
      "source": [
        "# Boxplot\n",
        "plt.figure(figsize=(5,1))\n",
        "sns.boxplot(x=df['activity_days'], fliersize=1)\n",
        "plt.title('Boxplot de activity_days')"
      ]
    },
    {
      "cell_type": "code",
      "execution_count": null,
      "metadata": {
        "colab": {
          "base_uri": "https://localhost:8080/",
          "height": 350
        },
        "id": "UvIV9zoodxnS",
        "outputId": "3ebf6335-a981-4d15-f463-b43d75c1a1ef"
      },
      "outputs": [
        {
          "output_type": "stream",
          "name": "stdout",
          "text": [
            "Mediana: 16.0\n"
          ]
        },
        {
          "output_type": "display_data",
          "data": {
            "text/plain": [
              "<Figure size 500x300 with 1 Axes>"
            ],
            "image/png": "[encoded data removed]"
          },
          "metadata": {}
        }
      ],
      "source": [
        "# Histograma\n",
        "histograma('activity_days', median_text=False, discrete=True)"
      ]
    },
    {
      "cell_type": "markdown",
      "metadata": {
        "id": "gSCakp9-ekiz"
      },
      "source": [
        "No último mês, os usuários abriram o aplicativo uma mediana de 16 vezes. O boxplot revela uma distribuição centralizada. O histograma mostra uma distribuição quase uniforme de ~500 pessoas abrindo o aplicativo em cada contagem de dias. No entanto, há ~250 pessoas que não abriram o aplicativo em nenhum dia e ~250 pessoas que abriram o aplicativo todos os dias do mês.\n",
        "\n",
        "Esta distribuição é interessante porque não espelha a distribuição de `sessions`, o que poderia ser esperado estar correlacionado com `activity_days`."
      ]
    },
    {
      "cell_type": "markdown",
      "metadata": {
        "id": "uPjYLN10lykc"
      },
      "source": [
        "#### **`driving_days`**\n",
        "\n",
        "_Número de dias em que o usuário dirige (pelo menos 1 km) durante o mês._"
      ]
    },
    {
      "cell_type": "code",
      "execution_count": null,
      "metadata": {
        "colab": {
          "base_uri": "https://localhost:8080/",
          "height": 179
        },
        "id": "8CLIkMlcl5qW",
        "outputId": "c4eeb7f2-7731-4d9c-ca35-42fa9cfda1c1"
      },
      "outputs": [
        {
          "output_type": "display_data",
          "data": {
            "text/plain": [
              "<Figure size 500x100 with 1 Axes>"
            ],
            "image/png": "[encoded data removed]"
          },
          "metadata": {}
        }
      ],
      "source": [
        "# Boxplot\n",
        "plt.figure(figsize=(5,1))\n",
        "sns.boxplot(x=df['driving_days'], fliersize=1)\n",
        "plt.title('Boxplot de driving_days')"
      ]
    },
    {
      "cell_type": "code",
      "execution_count": null,
      "metadata": {
        "colab": {
          "base_uri": "https://localhost:8080/",
          "height": 350
        },
        "id": "Ag8vbNA3l_Zr",
        "outputId": "df3de978-cd74-4ac4-b54a-73bb193a276a"
      },
      "outputs": [
        {
          "output_type": "stream",
          "name": "stdout",
          "text": [
            "Mediana: 12.0\n"
          ]
        },
        {
          "output_type": "display_data",
          "data": {
            "text/plain": [
              "<Figure size 500x300 with 1 Axes>"
            ],
            "image/png": "[encoded data removed]"
          },
          "metadata": {}
        }
      ],
      "source": [
        "# Histograma\n",
        "histograma('driving_days', median_text=False, discrete=True)"
      ]
    },
    {
      "cell_type": "markdown",
      "metadata": {
        "id": "tLRfE-UQoJso"
      },
      "source": [
        "\n",
        "\n",
        "O número de dias em que os usuários dirigiram a cada mês é quase uniforme e correlaciona-se amplamente com o número de dias em que abriram o aplicativo nesse mês, exceto que `driving_days` diminui à direita.\n",
        "\n",
        "No entanto, houve quase o dobro de usuários (~1.000 vs. ~550) que não dirigiram nada durante o mês. Isso pode parecer contraditório quando considerado junto com as informações de `activity_days`. Essa variável teve ~500 usuários abrindo o aplicativo em cada contagem de dias na maioria dos casos, mas houve apenas ~250 usuários que não abriram o aplicativo durante o mês e ~250 usuários que abriram o aplicativo todos os dias. Faça uma marcação para investigação posterior.\n",
        "\n"
      ]
    },
    {
      "cell_type": "markdown",
      "metadata": {
        "id": "_WoEciWn0now"
      },
      "source": [
        "#### **`device`**\n",
        "\n",
        "_O tipo de dispositivo com o qual um usuário inicia uma sessão._\n",
        "\n",
        "Sendo uma variável categórica, não é plotado um boxplot para ela. Um bom gráfico para uma variável categórica binária é um gráfico de pizza."
      ]
    },
    {
      "cell_type": "code",
      "execution_count": null,
      "metadata": {
        "colab": {
          "base_uri": "https://localhost:8080/",
          "height": 290
        },
        "id": "aHw72aEt0_DB",
        "outputId": "1e68bb26-7ae2-41ab-d23e-96d60253194f"
      },
      "outputs": [
        {
          "output_type": "display_data",
          "data": {
            "text/plain": [
              "<Figure size 300x300 with 1 Axes>"
            ],
            "image/png": "[encoded data removed]"
          },
          "metadata": {}
        }
      ],
      "source": [
        "# Gráfico de Pizza\n",
        "fig = plt.figure(figsize=(3,3))\n",
        "data=df['device'].value_counts()\n",
        "plt.pie(data,\n",
        "        labels=[f'{data.index[0]}: {data.values[0]}',\n",
        "                f'{data.index[1]}: {data.values[1]}'],\n",
        "        autopct='%1.1f%%'\n",
        "        )\n",
        "plt.title('Usuário por dispositivo')"
      ]
    },
    {
      "cell_type": "markdown",
      "metadata": {
        "id": "XNvYyQnD37Pg"
      },
      "source": [
        "Há quase o dobro de usuários de iPhone em comparação com usuários de Android representados nesses dados."
      ]
    },
    {
      "cell_type": "markdown",
      "metadata": {
        "id": "l_yCblxJ3fht"
      },
      "source": [
        "#### **`label`**\n",
        "\n",
        "_Variável de destino binária (\"retido\" vs. \"churned\") para indicar se um usuário abandonou o aplicativo a qualquer momento durante o mês._\n",
        "\n",
        "Também sendo uma variável categórica, não seria plotado um boxplot. Em vez disso, vamos fazer um gráfico de pizza."
      ]
    },
    {
      "cell_type": "code",
      "execution_count": null,
      "metadata": {
        "colab": {
          "base_uri": "https://localhost:8080/",
          "height": 290
        },
        "id": "IQ91Etl73xEp",
        "outputId": "a3ea27e3-e2bf-43a7-d8f0-2cfc63f28f39"
      },
      "outputs": [
        {
          "output_type": "display_data",
          "data": {
            "text/plain": [
              "<Figure size 300x300 with 1 Axes>"
            ],
            "image/png": "[encoded data removed]"
          },
          "metadata": {}
        }
      ],
      "source": [
        "# Gráfico de Pizza\n",
        "fig = plt.figure(figsize=(3,3))\n",
        "data=df['label'].value_counts()\n",
        "plt.pie(data,\n",
        "        labels=[f'{data.index[0]}: {data.values[0]}',\n",
        "                f'{data.index[1]}: {data.values[1]}'],\n",
        "        autopct='%1.1f%%'\n",
        "        )\n",
        "plt.title('Quantidade de retido vs. churned')"
      ]
    },
    {
      "cell_type": "markdown",
      "metadata": {
        "id": "TuLcxip-4Gud"
      },
      "source": [
        "Menos de 18% dos usuários abandonaram o aplicativo."
      ]
    },
    {
      "cell_type": "markdown",
      "metadata": {
        "id": "joljkaIA72Mr"
      },
      "source": [
        "#### **`driving_days` vs. `activity_days`**\n",
        "\n",
        "\n",
        "Como tanto `driving_days` e `activity_days` representam contagens de dias ao longo de um mês e também estão relacionados, podemos plotá-los juntos em um único histograma. Isso ajudará a compreender melhor como eles se relacionam entre si, evitando a necessidade de voltar em vários pontos do notebook para comparar histogramas em dois lugares diferentes.\n",
        "\n",
        "Plote um histograma que, para cada dia, tenha uma barra representando as contagens de `driving_days` e `user_days`."
      ]
    },
    {
      "cell_type": "code",
      "execution_count": null,
      "metadata": {
        "colab": {
          "base_uri": "https://localhost:8080/",
          "height": 410
        },
        "id": "t28ihi30Fa2g",
        "outputId": "63bcc6cb-98d3-4fde-c0b6-1af556a82ceb"
      },
      "outputs": [
        {
          "output_type": "display_data",
          "data": {
            "text/plain": [
              "<Figure size 1200x400 with 1 Axes>"
            ],
            "image/png": "[encoded data removed]"
          },
          "metadata": {}
        }
      ],
      "source": [
        "# Histograma\n",
        "plt.figure(figsize=(12,4))\n",
        "label=['driving days', 'activity days']\n",
        "plt.hist([df['driving_days'], df['activity_days']],\n",
        "         bins=range(0,33),\n",
        "         label=label)\n",
        "plt.xlabel('days')\n",
        "plt.ylabel('count')\n",
        "plt.legend()\n",
        "plt.title('driving_days vs. activity_days')"
      ]
    },
    {
      "cell_type": "markdown",
      "metadata": {
        "id": "mG3nex1RKTlx"
      },
      "source": [
        "Conforme observado anteriormente, isso pode parecer contraditório. Afinal, por que há menos pessoas que não usaram o aplicativo durante o mês e mais pessoas que não dirigiram durante o mês?\n",
        "\n",
        "Por outro lado, isso pode ser apenas ilustrativo do fato de que, embora essas variáveis estejam relacionadas entre si, elas não são iguais. As pessoas provavelmente abrem o aplicativo mais vezes do que o utilizam para dirigir—talvez para verificar tempos de trajeto ou informações de rota, atualizar configurações ou até mesmo por engano.\n",
        "\n",
        "No entanto, pode valer a pena entrar em contato com a equipe de dados do Waze para obter mais informações sobre isso, especialmente porque parece que o número de dias no mês não é o mesmo entre as variáveis.\n",
        "\n",
        "Confirme o número máximo de dias para cada variável — `driving_days` e `activity_days`."
      ]
    },
    {
      "cell_type": "code",
      "execution_count": null,
      "metadata": {
        "colab": {
          "base_uri": "https://localhost:8080/"
        },
        "id": "8Z16W0qjDMad",
        "outputId": "9a019394-8ceb-466a-aa4b-800d8e841914"
      },
      "outputs": [
        {
          "output_type": "stream",
          "name": "stdout",
          "text": [
            "30\n",
            "31\n"
          ]
        }
      ],
      "source": [
        "print(df['driving_days'].max())\n",
        "print(df['activity_days'].max())"
      ]
    },
    {
      "cell_type": "markdown",
      "metadata": {
        "id": "5xtqi_z4OJNL"
      },
      "source": [
        "É verdade. Embora seja possível que nenhum usuário tenha dirigido nos 31 dias do mês, é altamente improvável, considerando que há 15.000 pessoas representadas no conjunto de dados.\n",
        "\n",
        "Outra maneira de verificar a validade dessas variáveis é criar um gráfico de dispersão simples, com o eixo x representando uma variável e o eixo y representando a outra."
      ]
    },
    {
      "cell_type": "code",
      "execution_count": null,
      "metadata": {
        "colab": {
          "base_uri": "https://localhost:8080/",
          "height": 489
        },
        "id": "Vahs0CWCOnnF",
        "outputId": "d17d4628-f054-4274-d2d7-428af51839ab"
      },
      "outputs": [
        {
          "output_type": "execute_result",
          "data": {
            "text/plain": [
              "[<matplotlib.lines.Line2D at 0x7bee954e9180>]"
            ]
          },
          "metadata": {},
          "execution_count": 31
        },
        {
          "output_type": "display_data",
          "data": {
            "text/plain": [
              "<Figure size 640x480 with 1 Axes>"
            ],
            "image/png": "[encoded data removed]"
          },
          "metadata": {}
        }
      ],
      "source": [
        "# Scatter plot\n",
        "sns.scatterplot(data=df, x='driving_days', y='activity_days')\n",
        "plt.title('driving_days vs. activity_days')\n",
        "plt.plot([0,31], [0,31], color='red', linestyle='--')"
      ]
    },
    {
      "cell_type": "markdown",
      "metadata": {
        "id": "jDwKuuM4Ra_T"
      },
      "source": [
        "Observe que há um limite teórico. Se você usar o aplicativo para dirigir, então, por definição, isso também deve contar como um dia de uso. Em outras palavras, não é possível ter mais dias de condução do que dias de atividade. Nenhuma das amostras neste conjunto de dados viola essa regra, o que é positivo."
      ]
    },
    {
      "cell_type": "markdown",
      "metadata": {
        "id": "57xSU34rbiwm"
      },
      "source": [
        "#### **Retention by device**\n",
        "\n",
        "Elabore um histograma com quatro barras—uma para cada combinação de rótulo de dispositivo—para mostrar quantos usuários de iPhone foram retidos/abandonaram e quantos usuários de Android foram retidos/abandonaram."
      ]
    },
    {
      "cell_type": "code",
      "execution_count": null,
      "metadata": {
        "colab": {
          "base_uri": "https://localhost:8080/",
          "height": 427
        },
        "id": "l5RQ8XkaXDzq",
        "outputId": "b8a0eb03-7ab1-4b5b-c0a0-155fa1e97135"
      },
      "outputs": [
        {
          "output_type": "execute_result",
          "data": {
            "text/plain": [
              "<matplotlib.legend.Legend at 0x7bee99442dd0>"
            ]
          },
          "metadata": {},
          "execution_count": 33
        },
        {
          "output_type": "display_data",
          "data": {
            "text/plain": [
              "<Figure size 500x400 with 1 Axes>"
            ],
            "image/png": "[encoded data removed]"
          },
          "metadata": {}
        }
      ],
      "source": [
        "# Histograma\n",
        "plt.figure(figsize=(5,4))\n",
        "sns.histplot(data=df,\n",
        "             x='device',\n",
        "             hue='label',\n",
        "             multiple='dodge',\n",
        "             shrink=0.9\n",
        "             )\n",
        "\n",
        "plt.xlabel('Dispositivo')\n",
        "plt.ylabel('Contagem')\n",
        "plt.title('Retenção por dispositivo')\n",
        "plt.legend(title='Status', labels=['Retido', 'Churned'])"
      ]
    },
    {
      "cell_type": "markdown",
      "metadata": {
        "id": "dYyOw0BTcLao"
      },
      "source": [
        "\n",
        "A proporção de usuários que abandonaram em relação aos usuários retidos é consistente entre os tipos de dispositivos."
      ]
    },
    {
      "cell_type": "markdown",
      "metadata": {
        "id": "F38TJS5kxkhz"
      },
      "source": [
        "#### **Retenção por quilômetros percorridos por dia de condução**\n",
        "\n",
        "No curso anterior, você descobriu que a distância média percorrida por dia de condução no mês passado para usuários que abandonaram foi de 608,78 km, em comparação com 247,48 km para aqueles que não abandonaram. Vamos examinar isso mais detalhadamente.\n",
        "\n",
        "1. Crie uma nova coluna em `df` chamada `km_per_driving_day`, que representa a média da distância percorrida por dia de condução para cada usuário.\n",
        "\n",
        "2. Chame o método `describe()` na nova coluna."
      ]
    },
    {
      "cell_type": "code",
      "execution_count": null,
      "metadata": {
        "colab": {
          "base_uri": "https://localhost:8080/"
        },
        "id": "kIZ27mvcyKpf",
        "outputId": "549c9d60-dc11-4722-ba70-538d80076de5"
      },
      "outputs": [
        {
          "output_type": "execute_result",
          "data": {
            "text/plain": [
              "count    1.499900e+04\n",
              "mean              inf\n",
              "std               NaN\n",
              "min      3.022063e+00\n",
              "25%      1.672804e+02\n",
              "50%      3.231459e+02\n",
              "75%      7.579257e+02\n",
              "max               inf\n",
              "Name: km_per_driving_day, dtype: float64"
            ]
          },
          "metadata": {},
          "execution_count": 34
        }
      ],
      "source": [
        "df['km_per_driving_day'] = df['driven_km_drives'] / df['driving_days']\n",
        "df['km_per_driving_day'].describe()"
      ]
    },
    {
      "cell_type": "markdown",
      "metadata": {
        "id": "v2y2Qj_lzwLT"
      },
      "source": [
        "O que você observa? O valor médio é infinito, o desvio padrão é NaN, e o valor máximo é infinito. Por que você acha que isso está acontecendo?\n",
        "\n",
        "Isso ocorre devido à presença de valores zero na coluna `driving_days`. O Pandas atribui um valor infinito nas linhas correspondentes da nova coluna porque a divisão por zero é indefinida.\n",
        "\n",
        "1. Converta esses valores de infinito para zero. Você pode usar `np.inf` para se referir a um valor de infinito.\n",
        "\n",
        "2. Chame `describe()` na coluna `km_per_driving_day` para verificar se funcionou."
      ]
    },
    {
      "cell_type": "code",
      "execution_count": null,
      "metadata": {
        "colab": {
          "base_uri": "https://localhost:8080/"
        },
        "id": "JoS97_0n0Uo4",
        "outputId": "1871248e-2130-4197-e70a-29f944eb462d"
      },
      "outputs": [
        {
          "output_type": "execute_result",
          "data": {
            "text/plain": [
              "count    14999.000000\n",
              "mean       578.963113\n",
              "std       1030.094384\n",
              "min          0.000000\n",
              "25%        136.238895\n",
              "50%        272.889272\n",
              "75%        558.686918\n",
              "max      15420.234110\n",
              "Name: km_per_driving_day, dtype: float64"
            ]
          },
          "metadata": {},
          "execution_count": 35
        }
      ],
      "source": [
        "df.loc[df['km_per_driving_day']==np.inf, 'km_per_driving_day'] = 0\n",
        "df['km_per_driving_day'].describe()"
      ]
    },
    {
      "cell_type": "markdown",
      "metadata": {
        "id": "atEH51S83Y-S"
      },
      "source": [
        "\n",
        "\n",
        "O valor máximo é de 15.420 quilômetros por dia de condução. Isso é fisicamente impossível. Dirigir a 100 km/h por 12 horas totaliza 1.200 km. É improvável que muitas pessoas tenham uma média diária superior a isso ao dirigir, então, por enquanto, desconsidere as linhas em que a distância nesta coluna é superior a 1.200 km.\n",
        "\n",
        "Elabore um histograma da nova coluna `km_per_driving_day`, desconsiderando aqueles usuários com valores superiores a 1.200 km. Cada barra deve ter o mesmo comprimento e apresentar duas cores, uma cor representando a porcentagem de usuários naquela barra que abandonaram e a outra representando a porcentagem que foram retidos. Isso pode ser feito configurando o parâmetro multiple da função [`histplot()`](https://seaborn.pydata.org/generated/seaborn.histplot.html) do seaborn para `fill`."
      ]
    },
    {
      "cell_type": "code",
      "execution_count": null,
      "metadata": {
        "colab": {
          "base_uri": "https://localhost:8080/",
          "height": 505
        },
        "id": "8lfXK3tZ8PK-",
        "outputId": "f54a4045-d512-4754-f52e-47a016bdb8b3"
      },
      "outputs": [
        {
          "output_type": "execute_result",
          "data": {
            "text/plain": [
              "<matplotlib.legend.Legend at 0x7bee95b5caf0>"
            ]
          },
          "metadata": {},
          "execution_count": 36
        },
        {
          "output_type": "display_data",
          "data": {
            "text/plain": [
              "<Figure size 1200x500 with 1 Axes>"
            ],
            "image/png": "[encoded data removed]"
          },
          "metadata": {}
        }
      ],
      "source": [
        "# Histograma\n",
        "plt.figure(figsize=(12,5))\n",
        "sns.histplot(data=df,\n",
        "             x='km_per_driving_day',\n",
        "             bins=range(0,1201,20),\n",
        "             hue='label',\n",
        "             multiple='fill')\n",
        "plt.ylabel('%', rotation=0)\n",
        "plt.xlabel('Quilômetros por dia de condução')\n",
        "plt.title('Taxa de Churn pela média de quilômetros por dia de condução')\n",
        "plt.legend(title='Status', labels=['Retido', 'Churned'])"
      ]
    },
    {
      "cell_type": "markdown",
      "metadata": {
        "id": "NA2ru_9G4q-S"
      },
      "source": [
        "A taxa de churn tende a aumentar à medida que a média diária de quilômetros percorridos aumenta, confirmando o que foi encontrado no curso anterior. Seria válido investigar mais a fundo as razões pelas quais usuários de longa distância estão deixando de usar o aplicativo."
      ]
    },
    {
      "cell_type": "markdown",
      "metadata": {
        "id": "ZPSP6HUysd4-"
      },
      "source": [
        "#### **Taxa de churn por número de dias de condução**\n",
        "\n",
        "Crie outro histograma semelhante ao anterior, mas desta vez representando a taxa de churn para cada número de dias de condução."
      ]
    },
    {
      "cell_type": "code",
      "execution_count": null,
      "metadata": {
        "colab": {
          "base_uri": "https://localhost:8080/",
          "height": 504
        },
        "id": "8ROFdoGi-zct",
        "outputId": "6b0519f2-b5ae-4bee-cead-ed63df2dcca8"
      },
      "outputs": [
        {
          "output_type": "execute_result",
          "data": {
            "text/plain": [
              "<matplotlib.legend.Legend at 0x7bee957df820>"
            ]
          },
          "metadata": {},
          "execution_count": 37
        },
        {
          "output_type": "display_data",
          "data": {
            "text/plain": [
              "<Figure size 1200x500 with 1 Axes>"
            ],
            "image/png": "[encoded data removed]"
          },
          "metadata": {}
        }
      ],
      "source": [
        "# Histograma\n",
        "plt.figure(figsize=(12,5))\n",
        "sns.histplot(data=df,\n",
        "             x='driving_days',\n",
        "             bins=range(1,32),\n",
        "             hue='label',\n",
        "             multiple='fill',\n",
        "             discrete=True)\n",
        "plt.ylabel('%', rotation=0)\n",
        "plt.xlabel('Dias de condução')\n",
        "plt.title('Taxa de Churn por dia de condução')\n",
        "plt.legend(title='Status', labels=['Retido', 'Churned'])"
      ]
    },
    {
      "cell_type": "markdown",
      "metadata": {
        "id": "02R42NXduRaS"
      },
      "source": [
        "A taxa de churn é mais alta para pessoas que não usaram muito o Waze durante o último mês. Quanto mais vezes usaram o aplicativo, menos provável era que abandonassem. Enquanto 40% dos usuários que não usaram o aplicativo em nenhum dia do último mês abandonaram, ninguém que usou o aplicativo durante 30 dias abandonou.\n",
        "\n",
        "Isso não é surpreendente. Se as pessoas que usaram muito o aplicativo abandonassem, isso provavelmente indicaria insatisfação. Quando pessoas que não usam o aplicativo abandonam, pode ser o resultado de insatisfação no passado, ou pode indicar uma menor necessidade de um aplicativo de navegação. Talvez tenham se mudado para uma cidade com bom transporte público e não precisem mais dirigir."
      ]
    },
    {
      "cell_type": "markdown",
      "metadata": {
        "id": "HoKlVENQDCHm"
      },
      "source": [
        "#### **Proporção de sessões ocorridas no último mês**\n",
        "\n",
        "Crie uma nova coluna `percent_sessions_in_last_month` que represente a porcentagem de todas as sessões totais de cada usuário registradas no último mês de uso."
      ]
    },
    {
      "cell_type": "code",
      "execution_count": null,
      "metadata": {
        "id": "4K6HUwBqEQh0"
      },
      "outputs": [],
      "source": [
        "df['percent_sessions_in_last_month'] = df['sessions'] / df['total_sessions']"
      ]
    },
    {
      "cell_type": "markdown",
      "metadata": {
        "id": "sQco4xguR9sx"
      },
      "source": [
        "Qual a mediana?"
      ]
    },
    {
      "cell_type": "code",
      "execution_count": null,
      "metadata": {
        "colab": {
          "base_uri": "https://localhost:8080/"
        },
        "id": "Fd3s-hB3SJjK",
        "outputId": "2042018f-3960-4397-df26-925c40a2cebd"
      },
      "outputs": [
        {
          "output_type": "execute_result",
          "data": {
            "text/plain": [
              "0.42309702992763176"
            ]
          },
          "metadata": {},
          "execution_count": 39
        }
      ],
      "source": [
        "df['percent_sessions_in_last_month'].median()"
      ]
    },
    {
      "cell_type": "code",
      "execution_count": null,
      "metadata": {
        "colab": {
          "base_uri": "https://localhost:8080/",
          "height": 350
        },
        "id": "rccGskdzEbWz",
        "outputId": "426be77c-725e-4f30-dc74-c1a99ea00e94"
      },
      "outputs": [
        {
          "output_type": "stream",
          "name": "stdout",
          "text": [
            "Mediana: 0.4\n"
          ]
        },
        {
          "output_type": "display_data",
          "data": {
            "text/plain": [
              "<Figure size 500x300 with 1 Axes>"
            ],
            "image/png": "[encoded data removed]"
          },
          "metadata": {}
        }
      ],
      "source": [
        "# Histograma\n",
        "histograma('percent_sessions_in_last_month',\n",
        "             hue=df['label'],\n",
        "             multiple='layer',\n",
        "             median_text=False)"
      ]
    },
    {
      "cell_type": "markdown",
      "metadata": {
        "id": "5Hic_dLCGQP9"
      },
      "source": [
        "Mediana de `n_days_after_onboarding`."
      ]
    },
    {
      "cell_type": "code",
      "execution_count": null,
      "metadata": {
        "colab": {
          "base_uri": "https://localhost:8080/"
        },
        "id": "RJUFCVanF9hy",
        "outputId": "bea551a3-b785-4cab-f043-233291ef3608"
      },
      "outputs": [
        {
          "data": {
            "text/plain": [
              "1741.0"
            ]
          },
          "execution_count": 37,
          "metadata": {},
          "output_type": "execute_result"
        }
      ],
      "source": [
        "df['n_days_after_onboarding'].median()"
      ]
    },
    {
      "cell_type": "markdown",
      "metadata": {
        "id": "mwvbv283GErN"
      },
      "source": [
        "Metade das pessoas no conjunto de dados teve 40% ou mais de suas sessões apenas no último mês, no entanto, a mediana geral do tempo desde a incorporação é quase cinco anos.\n",
        "\n",
        "Crie um histograma de `n_days_after_onboarding` apenas para as pessoas que tiveram 40% ou mais de suas sessões totais no último mês."
      ]
    },
    {
      "cell_type": "code",
      "execution_count": null,
      "metadata": {
        "colab": {
          "base_uri": "https://localhost:8080/",
          "height": 351
        },
        "id": "npeWEDZBHBbc",
        "outputId": "c4d2c844-33e7-4d26-80a3-8a37c3436ec6"
      },
      "outputs": [
        {
          "output_type": "execute_result",
          "data": {
            "text/plain": [
              "Text(0.5, 1.0, ' dias após a incorporação para usuários com 40% ou mais de sessões no último mês')"
            ]
          },
          "metadata": {},
          "execution_count": 43
        },
        {
          "output_type": "display_data",
          "data": {
            "text/plain": [
              "<Figure size 500x300 with 1 Axes>"
            ],
            "image/png": "[encoded data removed]"
          },
          "metadata": {}
        }
      ],
      "source": [
        "# Histograma\n",
        "data = df.loc[df['percent_sessions_in_last_month']>=0.4]\n",
        "plt.figure(figsize=(5,3))\n",
        "sns.histplot(x=data['n_days_after_onboarding'])\n",
        "plt.title(' dias após a incorporação para usuários com 40% ou mais de sessões no último mês')"
      ]
    },
    {
      "cell_type": "markdown",
      "metadata": {
        "id": "rcSyhjObIkO1"
      },
      "source": [
        "O número de dias desde a incorporação para usuários com 40% ou mais de suas sessões totais ocorrendo apenas no último mês segue uma distribuição uniforme. Isso é muito estranho. Vale a pena perguntar ao Waze por que tantos usuários de longa data de repente usaram o aplicativo tão intensamente no último mês."
      ]
    },
    {
      "cell_type": "markdown",
      "metadata": {
        "id": "DCB53YobnpkU"
      },
      "source": [
        "### **Tarefa 3b. Lidando com outliers**\n",
        "\n",
        "Os boxplots da seção anterior indicaram que muitas dessas variáveis têm outliers. Esses outliers não parecem ser erros de entrada de dados; eles estão presentes devido às distribuições inclinadas para a direita.\n",
        "\n",
        "Dependendo do que você fará com esses dados, pode ser útil imputar dados atípicos com valores mais razoáveis. Uma maneira de realizar essa imputação é definir um limiar com base em um percentil da distribuição.\n",
        "\n",
        "Para praticar essa técnica, escreva uma função que calcule o percentil 95 de uma coluna específica e, em seguida, impute valores > ao percentil 95 com o valor no percentil 95 da distribuição.\n",
        "\n"
      ]
    },
    {
      "cell_type": "code",
      "execution_count": null,
      "metadata": {
        "id": "UUDeeYydpJw0"
      },
      "outputs": [],
      "source": [
        "def outlier_imputer(column_name, percentile):\n",
        "    # Calcular o limiar\n",
        "    threshold = df[column_name].quantile(percentile)\n",
        "    # Imputar o limiar para valores > que o limiar\n",
        "    df.loc[df[column_name] > threshold, column_name] = threshold\n",
        "\n",
        "    print('{:>25} | percentil: {} | limiar: {}'.format(column_name, percentile, threshold))"
      ]
    },
    {
      "cell_type": "markdown",
      "metadata": {
        "id": "gc3GWhgZkfPA"
      },
      "source": [
        "Vamos aplicar a função para as variáveis:\n",
        "\n",
        "* `sessions`\n",
        "* `drives`\n",
        "* `total_sessions`\n",
        "* `driven_km_drives`\n",
        "* `duration_minutes_drives`"
      ]
    },
    {
      "cell_type": "code",
      "execution_count": null,
      "metadata": {
        "colab": {
          "base_uri": "https://localhost:8080/"
        },
        "id": "UDsqtEgb6Q4c",
        "outputId": "ddaba989-2769-455f-de38-076824bc9f08"
      },
      "outputs": [
        {
          "output_type": "stream",
          "name": "stdout",
          "text": [
            "                 sessions | percentil: 0.95 | limiar: 243.0\n",
            "                   drives | percentil: 0.95 | limiar: 201.0\n",
            "           total_sessions | percentil: 0.95 | limiar: 454.3632037399997\n",
            "         driven_km_drives | percentil: 0.95 | limiar: 8889.7942356\n",
            "  duration_minutes_drives | percentil: 0.95 | limiar: 4668.899348999998\n"
          ]
        }
      ],
      "source": [
        "for column in ['sessions', 'drives', 'total_sessions',\n",
        "               'driven_km_drives', 'duration_minutes_drives']:\n",
        "               outlier_imputer(column, 0.95)"
      ]
    },
    {
      "cell_type": "code",
      "execution_count": null,
      "metadata": {
        "colab": {
          "base_uri": "https://localhost:8080/",
          "height": 457
        },
        "id": "yLwbk32AqlUv",
        "outputId": "da829fe8-bf42-4747-dc84-8e8fd4f04249"
      },
      "outputs": [
        {
          "output_type": "execute_result",
          "data": {
            "text/plain": [
              "                                  count         mean          std        min  \\\n",
              "ID                              14999.0  7499.000000  4329.982679   0.000000   \n",
              "sessions                        14999.0    76.568705    67.297958   0.000000   \n",
              "drives                          14999.0    64.058204    55.306924   0.000000   \n",
              "total_sessions                  14999.0   184.031320   118.600463   0.220211   \n",
              "n_days_after_onboarding         14999.0  1749.837789  1008.513876   4.000000   \n",
              "total_navigations_fav1          14999.0   121.605974   148.121544   0.000000   \n",
              "total_navigations_fav2          14999.0    29.672512    45.394651   0.000000   \n",
              "driven_km_drives                14999.0  3939.632764  2216.041510  60.441250   \n",
              "duration_minutes_drives         14999.0  1789.647426  1222.705167  18.282082   \n",
              "activity_days                   14999.0    15.537102     9.004655   0.000000   \n",
              "driving_days                    14999.0    12.179879     7.824036   0.000000   \n",
              "km_per_driving_day              14999.0   578.963113  1030.094384   0.000000   \n",
              "percent_sessions_in_last_month  14999.0     0.449255     0.286919   0.000000   \n",
              "\n",
              "                                        25%          50%           75%  \\\n",
              "ID                              3749.500000  7499.000000  11248.500000   \n",
              "sessions                          23.000000    56.000000    112.000000   \n",
              "drives                            20.000000    48.000000     93.000000   \n",
              "total_sessions                    90.661156   159.568115    254.192341   \n",
              "n_days_after_onboarding          878.000000  1741.000000   2623.500000   \n",
              "total_navigations_fav1             9.000000    71.000000    178.000000   \n",
              "total_navigations_fav2             0.000000     9.000000     43.000000   \n",
              "driven_km_drives                2212.600607  3493.858085   5289.861262   \n",
              "duration_minutes_drives          835.996260  1478.249859   2464.362632   \n",
              "activity_days                      8.000000    16.000000     23.000000   \n",
              "driving_days                       5.000000    12.000000     19.000000   \n",
              "km_per_driving_day               136.238895   272.889272    558.686918   \n",
              "percent_sessions_in_last_month     0.196221     0.423097      0.687216   \n",
              "\n",
              "                                         max  \n",
              "ID                              14998.000000  \n",
              "sessions                          243.000000  \n",
              "drives                            201.000000  \n",
              "total_sessions                    454.363204  \n",
              "n_days_after_onboarding          3500.000000  \n",
              "total_navigations_fav1           1236.000000  \n",
              "total_navigations_fav2            415.000000  \n",
              "driven_km_drives                 8889.794236  \n",
              "duration_minutes_drives          4668.899349  \n",
              "activity_days                      31.000000  \n",
              "driving_days                       30.000000  \n",
              "km_per_driving_day              15420.234110  \n",
              "percent_sessions_in_last_month      1.530637  "
            ],
            "text/html": [
              "\n",
              "  <div id=\"df-160f8b48-a268-4d10-8278-946b0bc6d64c\" class=\"colab-df-container\">\n",
              "    <div>\n",
              "<style scoped>\n",
              "    .dataframe tbody tr th:only-of-type {\n",
              "        vertical-align: middle;\n",
              "    }\n",
              "\n",
              "    .dataframe tbody tr th {\n",
              "        vertical-align: top;\n",
              "    }\n",
              "\n",
              "    .dataframe thead th {\n",
              "        text-align: right;\n",
              "    }\n",
              "</style>\n",
              "<table border=\"1\" class=\"dataframe\">\n",
              "  <thead>\n",
              "    <tr style=\"text-align: right;\">\n",
              "      <th></th>\n",
              "      <th>count</th>\n",
              "      <th>mean</th>\n",
              "      <th>std</th>\n",
              "      <th>min</th>\n",
              "      <th>25%</th>\n",
              "      <th>50%</th>\n",
              "      <th>75%</th>\n",
              "      <th>max</th>\n",
              "    </tr>\n",
              "  </thead>\n",
              "  <tbody>\n",
              "    <tr>\n",
              "      <th>ID</th>\n",
              "      <td>14999.0</td>\n",
              "      <td>7499.000000</td>\n",
              "      <td>4329.982679</td>\n",
              "      <td>0.000000</td>\n",
              "      <td>3749.500000</td>\n",
              "      <td>7499.000000</td>\n",
              "      <td>11248.500000</td>\n",
              "      <td>14998.000000</td>\n",
              "    </tr>\n",
              "    <tr>\n",
              "      <th>sessions</th>\n",
              "      <td>14999.0</td>\n",
              "      <td>76.568705</td>\n",
              "      <td>67.297958</td>\n",
              "      <td>0.000000</td>\n",
              "      <td>23.000000</td>\n",
              "      <td>56.000000</td>\n",
              "      <td>112.000000</td>\n",
              "      <td>243.000000</td>\n",
              "    </tr>\n",
              "    <tr>\n",
              "      <th>drives</th>\n",
              "      <td>14999.0</td>\n",
              "      <td>64.058204</td>\n",
              "      <td>55.306924</td>\n",
              "      <td>0.000000</td>\n",
              "      <td>20.000000</td>\n",
              "      <td>48.000000</td>\n",
              "      <td>93.000000</td>\n",
              "      <td>201.000000</td>\n",
              "    </tr>\n",
              "    <tr>\n",
              "      <th>total_sessions</th>\n",
              "      <td>14999.0</td>\n",
              "      <td>184.031320</td>\n",
              "      <td>118.600463</td>\n",
              "      <td>0.220211</td>\n",
              "      <td>90.661156</td>\n",
              "      <td>159.568115</td>\n",
              "      <td>254.192341</td>\n",
              "      <td>454.363204</td>\n",
              "    </tr>\n",
              "    <tr>\n",
              "      <th>n_days_after_onboarding</th>\n",
              "      <td>14999.0</td>\n",
              "      <td>1749.837789</td>\n",
              "      <td>1008.513876</td>\n",
              "      <td>4.000000</td>\n",
              "      <td>878.000000</td>\n",
              "      <td>1741.000000</td>\n",
              "      <td>2623.500000</td>\n",
              "      <td>3500.000000</td>\n",
              "    </tr>\n",
              "    <tr>\n",
              "      <th>total_navigations_fav1</th>\n",
              "      <td>14999.0</td>\n",
              "      <td>121.605974</td>\n",
              "      <td>148.121544</td>\n",
              "      <td>0.000000</td>\n",
              "      <td>9.000000</td>\n",
              "      <td>71.000000</td>\n",
              "      <td>178.000000</td>\n",
              "      <td>1236.000000</td>\n",
              "    </tr>\n",
              "    <tr>\n",
              "      <th>total_navigations_fav2</th>\n",
              "      <td>14999.0</td>\n",
              "      <td>29.672512</td>\n",
              "      <td>45.394651</td>\n",
              "      <td>0.000000</td>\n",
              "      <td>0.000000</td>\n",
              "      <td>9.000000</td>\n",
              "      <td>43.000000</td>\n",
              "      <td>415.000000</td>\n",
              "    </tr>\n",
              "    <tr>\n",
              "      <th>driven_km_drives</th>\n",
              "      <td>14999.0</td>\n",
              "      <td>3939.632764</td>\n",
              "      <td>2216.041510</td>\n",
              "      <td>60.441250</td>\n",
              "      <td>2212.600607</td>\n",
              "      <td>3493.858085</td>\n",
              "      <td>5289.861262</td>\n",
              "      <td>8889.794236</td>\n",
              "    </tr>\n",
              "    <tr>\n",
              "      <th>duration_minutes_drives</th>\n",
              "      <td>14999.0</td>\n",
              "      <td>1789.647426</td>\n",
              "      <td>1222.705167</td>\n",
              "      <td>18.282082</td>\n",
              "      <td>835.996260</td>\n",
              "      <td>1478.249859</td>\n",
              "      <td>2464.362632</td>\n",
              "      <td>4668.899349</td>\n",
              "    </tr>\n",
              "    <tr>\n",
              "      <th>activity_days</th>\n",
              "      <td>14999.0</td>\n",
              "      <td>15.537102</td>\n",
              "      <td>9.004655</td>\n",
              "      <td>0.000000</td>\n",
              "      <td>8.000000</td>\n",
              "      <td>16.000000</td>\n",
              "      <td>23.000000</td>\n",
              "      <td>31.000000</td>\n",
              "    </tr>\n",
              "    <tr>\n",
              "      <th>driving_days</th>\n",
              "      <td>14999.0</td>\n",
              "      <td>12.179879</td>\n",
              "      <td>7.824036</td>\n",
              "      <td>0.000000</td>\n",
              "      <td>5.000000</td>\n",
              "      <td>12.000000</td>\n",
              "      <td>19.000000</td>\n",
              "      <td>30.000000</td>\n",
              "    </tr>\n",
              "    <tr>\n",
              "      <th>km_per_driving_day</th>\n",
              "      <td>14999.0</td>\n",
              "      <td>578.963113</td>\n",
              "      <td>1030.094384</td>\n",
              "      <td>0.000000</td>\n",
              "      <td>136.238895</td>\n",
              "      <td>272.889272</td>\n",
              "      <td>558.686918</td>\n",
              "      <td>15420.234110</td>\n",
              "    </tr>\n",
              "    <tr>\n",
              "      <th>percent_sessions_in_last_month</th>\n",
              "      <td>14999.0</td>\n",
              "      <td>0.449255</td>\n",
              "      <td>0.286919</td>\n",
              "      <td>0.000000</td>\n",
              "      <td>0.196221</td>\n",
              "      <td>0.423097</td>\n",
              "      <td>0.687216</td>\n",
              "      <td>1.530637</td>\n",
              "    </tr>\n",
              "  </tbody>\n",
              "</table>\n",
              "</div>\n",
              "    <div class=\"colab-df-buttons\">\n",
              "\n",
              "  <div class=\"colab-df-container\">\n",
              "    <button class=\"colab-df-convert\" onclick=\"convertToInteractive('df-160f8b48-a268-4d10-8278-946b0bc6d64c')\"\n",
              "            title=\"Convert this dataframe to an interactive table.\"\n",
              "            style=\"display:none;\">\n",
              "\n",
              "  <svg xmlns=\"http://www.w3.org/2000/svg\" height=\"24px\" viewBox=\"0 -960 960 960\">\n",
              "    <path d=\"M120-120v-720h720v720H120Zm60-500h600v-160H180v160Zm220 220h160v-160H400v160Zm0 220h160v-160H400v160ZM180-400h160v-160H180v160Zm440 0h160v-160H620v160ZM180-180h160v-160H180v160Zm440 0h160v-160H620v160Z\"/>\n",
              "  </svg>\n",
              "    </button>\n",
              "\n",
              "  <style>\n",
              "    .colab-df-container {\n",
              "      display:flex;\n",
              "      gap: 12px;\n",
              "    }\n",
              "\n",
              "    .colab-df-convert {\n",
              "      background-color: #E8F0FE;\n",
              "      border: none;\n",
              "      border-radius: 50%;\n",
              "      cursor: pointer;\n",
              "      display: none;\n",
              "      fill: #1967D2;\n",
              "      height: 32px;\n",
              "      padding: 0 0 0 0;\n",
              "      width: 32px;\n",
              "    }\n",
              "\n",
              "    .colab-df-convert:hover {\n",
              "      background-color: #E2EBFA;\n",
              "      box-shadow: 0px 1px 2px rgba(60, 64, 67, 0.3), 0px 1px 3px 1px rgba(60, 64, 67, 0.15);\n",
              "      fill: #174EA6;\n",
              "    }\n",
              "\n",
              "    .colab-df-buttons div {\n",
              "      margin-bottom: 4px;\n",
              "    }\n",
              "\n",
              "    [theme=dark] .colab-df-convert {\n",
              "      background-color: #3B4455;\n",
              "      fill: #D2E3FC;\n",
              "    }\n",
              "\n",
              "    [theme=dark] .colab-df-convert:hover {\n",
              "      background-color: #434B5C;\n",
              "      box-shadow: 0px 1px 3px 1px rgba(0, 0, 0, 0.15);\n",
              "      filter: drop-shadow(0px 1px 2px rgba(0, 0, 0, 0.3));\n",
              "      fill: #FFFFFF;\n",
              "    }\n",
              "  </style>\n",
              "\n",
              "    <script>\n",
              "      const buttonEl =\n",
              "        document.querySelector('#df-160f8b48-a268-4d10-8278-946b0bc6d64c button.colab-df-convert');\n",
              "      buttonEl.style.display =\n",
              "        google.colab.kernel.accessAllowed ? 'block' : 'none';\n",
              "\n",
              "      async function convertToInteractive(key) {\n",
              "        const element = document.querySelector('#df-160f8b48-a268-4d10-8278-946b0bc6d64c');\n",
              "        const dataTable =\n",
              "          await google.colab.kernel.invokeFunction('convertToInteractive',\n",
              "                                                    [key], {});\n",
              "        if (!dataTable) return;\n",
              "\n",
              "        const docLinkHtml = 'Like what you see? Visit the ' +\n",
              "          '<a target=\"_blank\" href=https://colab.research.google.com/notebooks/data_table.ipynb>data table notebook</a>'\n",
              "          + ' to learn more about interactive tables.';\n",
              "        element.innerHTML = '';\n",
              "        dataTable['output_type'] = 'display_data';\n",
              "        await google.colab.output.renderOutput(dataTable, element);\n",
              "        const docLink = document.createElement('div');\n",
              "        docLink.innerHTML = docLinkHtml;\n",
              "        element.appendChild(docLink);\n",
              "      }\n",
              "    </script>\n",
              "  </div>\n",
              "\n",
              "\n",
              "<div id=\"df-c5b918d6-3dcb-46b7-801c-6cce8d1f3bd7\">\n",
              "  <button class=\"colab-df-quickchart\" onclick=\"quickchart('df-c5b918d6-3dcb-46b7-801c-6cce8d1f3bd7')\"\n",
              "            title=\"Suggest charts\"\n",
              "            style=\"display:none;\">\n",
              "\n",
              "<svg xmlns=\"http://www.w3.org/2000/svg\" height=\"24px\"viewBox=\"0 0 24 24\"\n",
              "     width=\"24px\">\n",
              "    <g>\n",
              "        <path d=\"M19 3H5c-1.1 0-2 .9-2 2v14c0 1.1.9 2 2 2h14c1.1 0 2-.9 2-2V5c0-1.1-.9-2-2-2zM9 17H7v-7h2v7zm4 0h-2V7h2v10zm4 0h-2v-4h2v4z\"/>\n",
              "    </g>\n",
              "</svg>\n",
              "  </button>\n",
              "\n",
              "<style>\n",
              "  .colab-df-quickchart {\n",
              "      --bg-color: #E8F0FE;\n",
              "      --fill-color: #1967D2;\n",
              "      --hover-bg-color: #E2EBFA;\n",
              "      --hover-fill-color: #174EA6;\n",
              "      --disabled-fill-color: #AAA;\n",
              "      --disabled-bg-color: #DDD;\n",
              "  }\n",
              "\n",
              "  [theme=dark] .colab-df-quickchart {\n",
              "      --bg-color: #3B4455;\n",
              "      --fill-color: #D2E3FC;\n",
              "      --hover-bg-color: #434B5C;\n",
              "      --hover-fill-color: #FFFFFF;\n",
              "      --disabled-bg-color: #3B4455;\n",
              "      --disabled-fill-color: #666;\n",
              "  }\n",
              "\n",
              "  .colab-df-quickchart {\n",
              "    background-color: var(--bg-color);\n",
              "    border: none;\n",
              "    border-radius: 50%;\n",
              "    cursor: pointer;\n",
              "    display: none;\n",
              "    fill: var(--fill-color);\n",
              "    height: 32px;\n",
              "    padding: 0;\n",
              "    width: 32px;\n",
              "  }\n",
              "\n",
              "  .colab-df-quickchart:hover {\n",
              "    background-color: var(--hover-bg-color);\n",
              "    box-shadow: 0 1px 2px rgba(60, 64, 67, 0.3), 0 1px 3px 1px rgba(60, 64, 67, 0.15);\n",
              "    fill: var(--button-hover-fill-color);\n",
              "  }\n",
              "\n",
              "  .colab-df-quickchart-complete:disabled,\n",
              "  .colab-df-quickchart-complete:disabled:hover {\n",
              "    background-color: var(--disabled-bg-color);\n",
              "    fill: var(--disabled-fill-color);\n",
              "    box-shadow: none;\n",
              "  }\n",
              "\n",
              "  .colab-df-spinner {\n",
              "    border: 2px solid var(--fill-color);\n",
              "    border-color: transparent;\n",
              "    border-bottom-color: var(--fill-color);\n",
              "    animation:\n",
              "      spin 1s steps(1) infinite;\n",
              "  }\n",
              "\n",
              "  @keyframes spin {\n",
              "    0% {\n",
              "      border-color: transparent;\n",
              "      border-bottom-color: var(--fill-color);\n",
              "      border-left-color: var(--fill-color);\n",
              "    }\n",
              "    20% {\n",
              "      border-color: transparent;\n",
              "      border-left-color: var(--fill-color);\n",
              "      border-top-color: var(--fill-color);\n",
              "    }\n",
              "    30% {\n",
              "      border-color: transparent;\n",
              "      border-left-color: var(--fill-color);\n",
              "      border-top-color: var(--fill-color);\n",
              "      border-right-color: var(--fill-color);\n",
              "    }\n",
              "    40% {\n",
              "      border-color: transparent;\n",
              "      border-right-color: var(--fill-color);\n",
              "      border-top-color: var(--fill-color);\n",
              "    }\n",
              "    60% {\n",
              "      border-color: transparent;\n",
              "      border-right-color: var(--fill-color);\n",
              "    }\n",
              "    80% {\n",
              "      border-color: transparent;\n",
              "      border-right-color: var(--fill-color);\n",
              "      border-bottom-color: var(--fill-color);\n",
              "    }\n",
              "    90% {\n",
              "      border-color: transparent;\n",
              "      border-bottom-color: var(--fill-color);\n",
              "    }\n",
              "  }\n",
              "</style>\n",
              "\n",
              "  <script>\n",
              "    async function quickchart(key) {\n",
              "      const quickchartButtonEl =\n",
              "        document.querySelector('#' + key + ' button');\n",
              "      quickchartButtonEl.disabled = true;  // To prevent multiple clicks.\n",
              "      quickchartButtonEl.classList.add('colab-df-spinner');\n",
              "      try {\n",
              "        const charts = await google.colab.kernel.invokeFunction(\n",
              "            'suggestCharts', [key], {});\n",
              "      } catch (error) {\n",
              "        console.error('Error during call to suggestCharts:', error);\n",
              "      }\n",
              "      quickchartButtonEl.classList.remove('colab-df-spinner');\n",
              "      quickchartButtonEl.classList.add('colab-df-quickchart-complete');\n",
              "    }\n",
              "    (() => {\n",
              "      let quickchartButtonEl =\n",
              "        document.querySelector('#df-c5b918d6-3dcb-46b7-801c-6cce8d1f3bd7 button');\n",
              "      quickchartButtonEl.style.display =\n",
              "        google.colab.kernel.accessAllowed ? 'block' : 'none';\n",
              "    })();\n",
              "  </script>\n",
              "</div>\n",
              "\n",
              "    </div>\n",
              "  </div>\n"
            ]
          },
          "metadata": {},
          "execution_count": 47
        }
      ],
      "source": [
        "df.describe().T"
      ]
    },
    {
      "cell_type": "markdown",
      "metadata": {
        "id": "StDODtD0BtzO"
      },
      "source": [
        "#### **Conclusão**\n",
        "\n",
        "A análise revelou que a taxa geral de churn é de aproximadamente 17%, e essa taxa é consistente tanto entre usuários de iPhone quanto de Android.\n",
        "\n",
        "Você pode estar sentindo que quanto mais a fundo explora os dados, mais perguntas surgem. Isso é bastante comum! Neste caso, vale a pena questionar a equipe de dados do Waze sobre por que tantos usuários usaram o aplicativo tão intensamente apenas no último mês.\n",
        "\n",
        "Além disso, a Análise Exploratória de Dados (EDA) revelou que usuários que percorrem distâncias muito longas em seus dias de condução têm mais probabilidade de abandonar, mas usuários que dirigem com mais frequência têm menos probabilidade de abandonar. A razão para essa discrepância é uma oportunidade para investigação adicional, e seria algo para questionar a equipe de dados do Waze.\n",
        "\n"
      ]
    },
    {
      "cell_type": "markdown",
      "metadata": {
        "id": "NsvBtco1x8GN"
      },
      "source": [
        "\n",
        "\n",
        "## **PACE: Executar**\n",
        "\n"
      ]
    },
    {
      "cell_type": "markdown",
      "metadata": {
        "id": "csHAfM-RSO7l"
      },
      "source": [
        "### **Tarefa 4a. Resultados e avaliação**\n",
        "\n",
        "Ao criar visualizações em Python, o que você aprendeu sobre o conjunto de dados? Que outras perguntas suas visualizações revelaram que você deve explorar?\n",
        "\n",
        "Dica profissional: Coloque-se na perspectiva do seu cliente. O que eles gostariam de saber?\n",
        "\n",
        "Use os campos de código a seguir para realizar qualquer EDA adicional com base nas visualizações que você já criou. Além disso, use o espaço para garantir que suas visualizações sejam claras, facilmente compreensíveis e acessíveis.\n",
        "\n",
        "Pergunte a si mesmo: Você considerou cor, contraste, ênfase e rotulagem?\n",
        "\n"
      ]
    },
    {
      "cell_type": "markdown",
      "metadata": {
        "id": "pOp0vmf1zOHO"
      },
      "source": [
        "* Eu aprendi...\n",
        "\n",
        "Há dados ausentes no rótulo de churn do usuário, então pode ser necessário um processamento adicional dos dados antes de uma análise mais aprofundada.\n",
        "\n",
        "Existem muitas observações atípicas para as viagens, então talvez devamos considerar uma transformação variável para estabilizar a variação.\n",
        "\n",
        "O número de viagens e o número de sessões estão fortemente correlacionados, então eles podem fornecer informações redundantes quando incorporados em um modelo.\n",
        "\n",
        "Em média, os usuários retidos têm menos viagens do que os usuários que abandonaram.\n",
        "\n",
        "* Minhas outras perguntas são...\n",
        "\n",
        "Como surge a ausência de dados no rótulo de churn do usuário?\n",
        "\n",
        "Quem são os usuários com um número extremamente grande de viagens? Eles são motoristas de transporte compartilhado ou motoristas comerciais?\n",
        "\n",
        "Por que os usuários retidos têm menos viagens do que os usuários que abandonaram? É porque os usuários que abandonaram têm um histórico mais longo de uso do aplicativo Waze?\n",
        "\n",
        "Qual é o perfil demográfico dos usuários retidos e dos usuários que abandonaram?\n",
        "\n",
        "* Meu cliente provavelmente gostaria de saber...\n",
        "\n",
        "Quais são as variáveis-chave associadas ao churn do usuário?\n",
        "\n",
        "Podemos implementar políticas para reduzir o churn do usuário?\n",
        "\n",
        "\n",
        "\n"
      ]
    },
    {
      "cell_type": "markdown",
      "metadata": {
        "id": "VsY2don1a6w2"
      },
      "source": [
        "Use os dois blocos de código seguintes (adicione mais blocos se desejar) para realizar EDA adicional que você considera importante com base no cenário fornecido."
      ]
    },
    {
      "cell_type": "code",
      "execution_count": null,
      "metadata": {
        "id": "puYiPmvGdTJH"
      },
      "outputs": [],
      "source": [
        "df['monthly_drives_per_session_ratio'] = (df['drives']/df['sessions'])"
      ]
    },
    {
      "cell_type": "code",
      "execution_count": null,
      "metadata": {
        "colab": {
          "base_uri": "https://localhost:8080/",
          "height": 383
        },
        "id": "iEv7pHw-dTRP",
        "outputId": "f2c4a03a-3dee-491b-c921-6faa8277874a"
      },
      "outputs": [
        {
          "output_type": "execute_result",
          "data": {
            "text/plain": [
              "   ID     label  sessions  drives  total_sessions  n_days_after_onboarding  \\\n",
              "0   0  retained       243     201      296.748273                     2276   \n",
              "1   1  retained       133     107      326.896596                     1225   \n",
              "2   2  retained       114      95      135.522926                     2651   \n",
              "3   3  retained        49      40       67.589221                       15   \n",
              "4   4  retained        84      68      168.247020                     1562   \n",
              "5   5  retained       113     103      279.544437                     2637   \n",
              "6   6  retained         3       2      236.725314                      360   \n",
              "7   7  retained        39      35      176.072845                     2999   \n",
              "8   8  retained        57      46      183.532018                      424   \n",
              "9   9   churned        84      68      244.802115                     2997   \n",
              "\n",
              "   total_navigations_fav1  total_navigations_fav2  driven_km_drives  \\\n",
              "0                     208                       0       2628.845068   \n",
              "1                      19                      64       8889.794236   \n",
              "2                       0                       0       3059.148818   \n",
              "3                     322                       7        913.591123   \n",
              "4                     166                       5       3950.202008   \n",
              "5                       0                       0        901.238699   \n",
              "6                     185                      18       5249.172828   \n",
              "7                       0                       0       7892.052468   \n",
              "8                       0                      26       2651.709764   \n",
              "9                      72                       0       6043.460295   \n",
              "\n",
              "   duration_minutes_drives  activity_days  driving_days   device  \\\n",
              "0              1985.775061             28            19  Android   \n",
              "1              3160.472914             13            11   iPhone   \n",
              "2              1610.735904             14             8  Android   \n",
              "3               587.196542              7             3   iPhone   \n",
              "4              1219.555924             27            18  Android   \n",
              "5               439.101397             15            11   iPhone   \n",
              "6               726.577205             28            23   iPhone   \n",
              "7              2466.981741             22            20   iPhone   \n",
              "8              1594.342984             25            20  Android   \n",
              "9              2341.838528              7             3   iPhone   \n",
              "\n",
              "   km_per_driving_day  percent_sessions_in_last_month  \\\n",
              "0          138.360267                        0.953670   \n",
              "1         1246.901868                        0.406856   \n",
              "2          382.393602                        0.841186   \n",
              "3          304.530374                        0.724968   \n",
              "4          219.455667                        0.499266   \n",
              "5           81.930791                        0.404229   \n",
              "6          228.224906                        0.012673   \n",
              "7          394.602623                        0.221499   \n",
              "8          132.585488                        0.310573   \n",
              "9         2014.486765                        0.343134   \n",
              "\n",
              "   monthly_drives_per_session_ratio  \n",
              "0                          0.827160  \n",
              "1                          0.804511  \n",
              "2                          0.833333  \n",
              "3                          0.816327  \n",
              "4                          0.809524  \n",
              "5                          0.911504  \n",
              "6                          0.666667  \n",
              "7                          0.897436  \n",
              "8                          0.807018  \n",
              "9                          0.809524  "
            ],
            "text/html": [
              "\n",
              "  <div id=\"df-81a490cb-1769-493a-8d44-575eeadc7d9e\" class=\"colab-df-container\">\n",
              "    <div>\n",
              "<style scoped>\n",
              "    .dataframe tbody tr th:only-of-type {\n",
              "        vertical-align: middle;\n",
              "    }\n",
              "\n",
              "    .dataframe tbody tr th {\n",
              "        vertical-align: top;\n",
              "    }\n",
              "\n",
              "    .dataframe thead th {\n",
              "        text-align: right;\n",
              "    }\n",
              "</style>\n",
              "<table border=\"1\" class=\"dataframe\">\n",
              "  <thead>\n",
              "    <tr style=\"text-align: right;\">\n",
              "      <th></th>\n",
              "      <th>ID</th>\n",
              "      <th>label</th>\n",
              "      <th>sessions</th>\n",
              "      <th>drives</th>\n",
              "      <th>total_sessions</th>\n",
              "      <th>n_days_after_onboarding</th>\n",
              "      <th>total_navigations_fav1</th>\n",
              "      <th>total_navigations_fav2</th>\n",
              "      <th>driven_km_drives</th>\n",
              "      <th>duration_minutes_drives</th>\n",
              "      <th>activity_days</th>\n",
              "      <th>driving_days</th>\n",
              "      <th>device</th>\n",
              "      <th>km_per_driving_day</th>\n",
              "      <th>percent_sessions_in_last_month</th>\n",
              "      <th>monthly_drives_per_session_ratio</th>\n",
              "    </tr>\n",
              "  </thead>\n",
              "  <tbody>\n",
              "    <tr>\n",
              "      <th>0</th>\n",
              "      <td>0</td>\n",
              "      <td>retained</td>\n",
              "      <td>243</td>\n",
              "      <td>201</td>\n",
              "      <td>296.748273</td>\n",
              "      <td>2276</td>\n",
              "      <td>208</td>\n",
              "      <td>0</td>\n",
              "      <td>2628.845068</td>\n",
              "      <td>1985.775061</td>\n",
              "      <td>28</td>\n",
              "      <td>19</td>\n",
              "      <td>Android</td>\n",
              "      <td>138.360267</td>\n",
              "      <td>0.953670</td>\n",
              "      <td>0.827160</td>\n",
              "    </tr>\n",
              "    <tr>\n",
              "      <th>1</th>\n",
              "      <td>1</td>\n",
              "      <td>retained</td>\n",
              "      <td>133</td>\n",
              "      <td>107</td>\n",
              "      <td>326.896596</td>\n",
              "      <td>1225</td>\n",
              "      <td>19</td>\n",
              "      <td>64</td>\n",
              "      <td>8889.794236</td>\n",
              "      <td>3160.472914</td>\n",
              "      <td>13</td>\n",
              "      <td>11</td>\n",
              "      <td>iPhone</td>\n",
              "      <td>1246.901868</td>\n",
              "      <td>0.406856</td>\n",
              "      <td>0.804511</td>\n",
              "    </tr>\n",
              "    <tr>\n",
              "      <th>2</th>\n",
              "      <td>2</td>\n",
              "      <td>retained</td>\n",
              "      <td>114</td>\n",
              "      <td>95</td>\n",
              "      <td>135.522926</td>\n",
              "      <td>2651</td>\n",
              "      <td>0</td>\n",
              "      <td>0</td>\n",
              "      <td>3059.148818</td>\n",
              "      <td>1610.735904</td>\n",
              "      <td>14</td>\n",
              "      <td>8</td>\n",
              "      <td>Android</td>\n",
              "      <td>382.393602</td>\n",
              "      <td>0.841186</td>\n",
              "      <td>0.833333</td>\n",
              "    </tr>\n",
              "    <tr>\n",
              "      <th>3</th>\n",
              "      <td>3</td>\n",
              "      <td>retained</td>\n",
              "      <td>49</td>\n",
              "      <td>40</td>\n",
              "      <td>67.589221</td>\n",
              "      <td>15</td>\n",
              "      <td>322</td>\n",
              "      <td>7</td>\n",
              "      <td>913.591123</td>\n",
              "      <td>587.196542</td>\n",
              "      <td>7</td>\n",
              "      <td>3</td>\n",
              "      <td>iPhone</td>\n",
              "      <td>304.530374</td>\n",
              "      <td>0.724968</td>\n",
              "      <td>0.816327</td>\n",
              "    </tr>\n",
              "    <tr>\n",
              "      <th>4</th>\n",
              "      <td>4</td>\n",
              "      <td>retained</td>\n",
              "      <td>84</td>\n",
              "      <td>68</td>\n",
              "      <td>168.247020</td>\n",
              "      <td>1562</td>\n",
              "      <td>166</td>\n",
              "      <td>5</td>\n",
              "      <td>3950.202008</td>\n",
              "      <td>1219.555924</td>\n",
              "      <td>27</td>\n",
              "      <td>18</td>\n",
              "      <td>Android</td>\n",
              "      <td>219.455667</td>\n",
              "      <td>0.499266</td>\n",
              "      <td>0.809524</td>\n",
              "    </tr>\n",
              "    <tr>\n",
              "      <th>5</th>\n",
              "      <td>5</td>\n",
              "      <td>retained</td>\n",
              "      <td>113</td>\n",
              "      <td>103</td>\n",
              "      <td>279.544437</td>\n",
              "      <td>2637</td>\n",
              "      <td>0</td>\n",
              "      <td>0</td>\n",
              "      <td>901.238699</td>\n",
              "      <td>439.101397</td>\n",
              "      <td>15</td>\n",
              "      <td>11</td>\n",
              "      <td>iPhone</td>\n",
              "      <td>81.930791</td>\n",
              "      <td>0.404229</td>\n",
              "      <td>0.911504</td>\n",
              "    </tr>\n",
              "    <tr>\n",
              "      <th>6</th>\n",
              "      <td>6</td>\n",
              "      <td>retained</td>\n",
              "      <td>3</td>\n",
              "      <td>2</td>\n",
              "      <td>236.725314</td>\n",
              "      <td>360</td>\n",
              "      <td>185</td>\n",
              "      <td>18</td>\n",
              "      <td>5249.172828</td>\n",
              "      <td>726.577205</td>\n",
              "      <td>28</td>\n",
              "      <td>23</td>\n",
              "      <td>iPhone</td>\n",
              "      <td>228.224906</td>\n",
              "      <td>0.012673</td>\n",
              "      <td>0.666667</td>\n",
              "    </tr>\n",
              "    <tr>\n",
              "      <th>7</th>\n",
              "      <td>7</td>\n",
              "      <td>retained</td>\n",
              "      <td>39</td>\n",
              "      <td>35</td>\n",
              "      <td>176.072845</td>\n",
              "      <td>2999</td>\n",
              "      <td>0</td>\n",
              "      <td>0</td>\n",
              "      <td>7892.052468</td>\n",
              "      <td>2466.981741</td>\n",
              "      <td>22</td>\n",
              "      <td>20</td>\n",
              "      <td>iPhone</td>\n",
              "      <td>394.602623</td>\n",
              "      <td>0.221499</td>\n",
              "      <td>0.897436</td>\n",
              "    </tr>\n",
              "    <tr>\n",
              "      <th>8</th>\n",
              "      <td>8</td>\n",
              "      <td>retained</td>\n",
              "      <td>57</td>\n",
              "      <td>46</td>\n",
              "      <td>183.532018</td>\n",
              "      <td>424</td>\n",
              "      <td>0</td>\n",
              "      <td>26</td>\n",
              "      <td>2651.709764</td>\n",
              "      <td>1594.342984</td>\n",
              "      <td>25</td>\n",
              "      <td>20</td>\n",
              "      <td>Android</td>\n",
              "      <td>132.585488</td>\n",
              "      <td>0.310573</td>\n",
              "      <td>0.807018</td>\n",
              "    </tr>\n",
              "    <tr>\n",
              "      <th>9</th>\n",
              "      <td>9</td>\n",
              "      <td>churned</td>\n",
              "      <td>84</td>\n",
              "      <td>68</td>\n",
              "      <td>244.802115</td>\n",
              "      <td>2997</td>\n",
              "      <td>72</td>\n",
              "      <td>0</td>\n",
              "      <td>6043.460295</td>\n",
              "      <td>2341.838528</td>\n",
              "      <td>7</td>\n",
              "      <td>3</td>\n",
              "      <td>iPhone</td>\n",
              "      <td>2014.486765</td>\n",
              "      <td>0.343134</td>\n",
              "      <td>0.809524</td>\n",
              "    </tr>\n",
              "  </tbody>\n",
              "</table>\n",
              "</div>\n",
              "    <div class=\"colab-df-buttons\">\n",
              "\n",
              "  <div class=\"colab-df-container\">\n",
              "    <button class=\"colab-df-convert\" onclick=\"convertToInteractive('df-81a490cb-1769-493a-8d44-575eeadc7d9e')\"\n",
              "            title=\"Convert this dataframe to an interactive table.\"\n",
              "            style=\"display:none;\">\n",
              "\n",
              "  <svg xmlns=\"http://www.w3.org/2000/svg\" height=\"24px\" viewBox=\"0 -960 960 960\">\n",
              "    <path d=\"M120-120v-720h720v720H120Zm60-500h600v-160H180v160Zm220 220h160v-160H400v160Zm0 220h160v-160H400v160ZM180-400h160v-160H180v160Zm440 0h160v-160H620v160ZM180-180h160v-160H180v160Zm440 0h160v-160H620v160Z\"/>\n",
              "  </svg>\n",
              "    </button>\n",
              "\n",
              "  <style>\n",
              "    .colab-df-container {\n",
              "      display:flex;\n",
              "      gap: 12px;\n",
              "    }\n",
              "\n",
              "    .colab-df-convert {\n",
              "      background-color: #E8F0FE;\n",
              "      border: none;\n",
              "      border-radius: 50%;\n",
              "      cursor: pointer;\n",
              "      display: none;\n",
              "      fill: #1967D2;\n",
              "      height: 32px;\n",
              "      padding: 0 0 0 0;\n",
              "      width: 32px;\n",
              "    }\n",
              "\n",
              "    .colab-df-convert:hover {\n",
              "      background-color: #E2EBFA;\n",
              "      box-shadow: 0px 1px 2px rgba(60, 64, 67, 0.3), 0px 1px 3px 1px rgba(60, 64, 67, 0.15);\n",
              "      fill: #174EA6;\n",
              "    }\n",
              "\n",
              "    .colab-df-buttons div {\n",
              "      margin-bottom: 4px;\n",
              "    }\n",
              "\n",
              "    [theme=dark] .colab-df-convert {\n",
              "      background-color: #3B4455;\n",
              "      fill: #D2E3FC;\n",
              "    }\n",
              "\n",
              "    [theme=dark] .colab-df-convert:hover {\n",
              "      background-color: #434B5C;\n",
              "      box-shadow: 0px 1px 3px 1px rgba(0, 0, 0, 0.15);\n",
              "      filter: drop-shadow(0px 1px 2px rgba(0, 0, 0, 0.3));\n",
              "      fill: #FFFFFF;\n",
              "    }\n",
              "  </style>\n",
              "\n",
              "    <script>\n",
              "      const buttonEl =\n",
              "        document.querySelector('#df-81a490cb-1769-493a-8d44-575eeadc7d9e button.colab-df-convert');\n",
              "      buttonEl.style.display =\n",
              "        google.colab.kernel.accessAllowed ? 'block' : 'none';\n",
              "\n",
              "      async function convertToInteractive(key) {\n",
              "        const element = document.querySelector('#df-81a490cb-1769-493a-8d44-575eeadc7d9e');\n",
              "        const dataTable =\n",
              "          await google.colab.kernel.invokeFunction('convertToInteractive',\n",
              "                                                    [key], {});\n",
              "        if (!dataTable) return;\n",
              "\n",
              "        const docLinkHtml = 'Like what you see? Visit the ' +\n",
              "          '<a target=\"_blank\" href=https://colab.research.google.com/notebooks/data_table.ipynb>data table notebook</a>'\n",
              "          + ' to learn more about interactive tables.';\n",
              "        element.innerHTML = '';\n",
              "        dataTable['output_type'] = 'display_data';\n",
              "        await google.colab.output.renderOutput(dataTable, element);\n",
              "        const docLink = document.createElement('div');\n",
              "        docLink.innerHTML = docLinkHtml;\n",
              "        element.appendChild(docLink);\n",
              "      }\n",
              "    </script>\n",
              "  </div>\n",
              "\n",
              "\n",
              "<div id=\"df-12ec9d06-9a65-4698-a946-156a5cb30b7b\">\n",
              "  <button class=\"colab-df-quickchart\" onclick=\"quickchart('df-12ec9d06-9a65-4698-a946-156a5cb30b7b')\"\n",
              "            title=\"Suggest charts\"\n",
              "            style=\"display:none;\">\n",
              "\n",
              "<svg xmlns=\"http://www.w3.org/2000/svg\" height=\"24px\"viewBox=\"0 0 24 24\"\n",
              "     width=\"24px\">\n",
              "    <g>\n",
              "        <path d=\"M19 3H5c-1.1 0-2 .9-2 2v14c0 1.1.9 2 2 2h14c1.1 0 2-.9 2-2V5c0-1.1-.9-2-2-2zM9 17H7v-7h2v7zm4 0h-2V7h2v10zm4 0h-2v-4h2v4z\"/>\n",
              "    </g>\n",
              "</svg>\n",
              "  </button>\n",
              "\n",
              "<style>\n",
              "  .colab-df-quickchart {\n",
              "      --bg-color: #E8F0FE;\n",
              "      --fill-color: #1967D2;\n",
              "      --hover-bg-color: #E2EBFA;\n",
              "      --hover-fill-color: #174EA6;\n",
              "      --disabled-fill-color: #AAA;\n",
              "      --disabled-bg-color: #DDD;\n",
              "  }\n",
              "\n",
              "  [theme=dark] .colab-df-quickchart {\n",
              "      --bg-color: #3B4455;\n",
              "      --fill-color: #D2E3FC;\n",
              "      --hover-bg-color: #434B5C;\n",
              "      --hover-fill-color: #FFFFFF;\n",
              "      --disabled-bg-color: #3B4455;\n",
              "      --disabled-fill-color: #666;\n",
              "  }\n",
              "\n",
              "  .colab-df-quickchart {\n",
              "    background-color: var(--bg-color);\n",
              "    border: none;\n",
              "    border-radius: 50%;\n",
              "    cursor: pointer;\n",
              "    display: none;\n",
              "    fill: var(--fill-color);\n",
              "    height: 32px;\n",
              "    padding: 0;\n",
              "    width: 32px;\n",
              "  }\n",
              "\n",
              "  .colab-df-quickchart:hover {\n",
              "    background-color: var(--hover-bg-color);\n",
              "    box-shadow: 0 1px 2px rgba(60, 64, 67, 0.3), 0 1px 3px 1px rgba(60, 64, 67, 0.15);\n",
              "    fill: var(--button-hover-fill-color);\n",
              "  }\n",
              "\n",
              "  .colab-df-quickchart-complete:disabled,\n",
              "  .colab-df-quickchart-complete:disabled:hover {\n",
              "    background-color: var(--disabled-bg-color);\n",
              "    fill: var(--disabled-fill-color);\n",
              "    box-shadow: none;\n",
              "  }\n",
              "\n",
              "  .colab-df-spinner {\n",
              "    border: 2px solid var(--fill-color);\n",
              "    border-color: transparent;\n",
              "    border-bottom-color: var(--fill-color);\n",
              "    animation:\n",
              "      spin 1s steps(1) infinite;\n",
              "  }\n",
              "\n",
              "  @keyframes spin {\n",
              "    0% {\n",
              "      border-color: transparent;\n",
              "      border-bottom-color: var(--fill-color);\n",
              "      border-left-color: var(--fill-color);\n",
              "    }\n",
              "    20% {\n",
              "      border-color: transparent;\n",
              "      border-left-color: var(--fill-color);\n",
              "      border-top-color: var(--fill-color);\n",
              "    }\n",
              "    30% {\n",
              "      border-color: transparent;\n",
              "      border-left-color: var(--fill-color);\n",
              "      border-top-color: var(--fill-color);\n",
              "      border-right-color: var(--fill-color);\n",
              "    }\n",
              "    40% {\n",
              "      border-color: transparent;\n",
              "      border-right-color: var(--fill-color);\n",
              "      border-top-color: var(--fill-color);\n",
              "    }\n",
              "    60% {\n",
              "      border-color: transparent;\n",
              "      border-right-color: var(--fill-color);\n",
              "    }\n",
              "    80% {\n",
              "      border-color: transparent;\n",
              "      border-right-color: var(--fill-color);\n",
              "      border-bottom-color: var(--fill-color);\n",
              "    }\n",
              "    90% {\n",
              "      border-color: transparent;\n",
              "      border-bottom-color: var(--fill-color);\n",
              "    }\n",
              "  }\n",
              "</style>\n",
              "\n",
              "  <script>\n",
              "    async function quickchart(key) {\n",
              "      const quickchartButtonEl =\n",
              "        document.querySelector('#' + key + ' button');\n",
              "      quickchartButtonEl.disabled = true;  // To prevent multiple clicks.\n",
              "      quickchartButtonEl.classList.add('colab-df-spinner');\n",
              "      try {\n",
              "        const charts = await google.colab.kernel.invokeFunction(\n",
              "            'suggestCharts', [key], {});\n",
              "      } catch (error) {\n",
              "        console.error('Error during call to suggestCharts:', error);\n",
              "      }\n",
              "      quickchartButtonEl.classList.remove('colab-df-spinner');\n",
              "      quickchartButtonEl.classList.add('colab-df-quickchart-complete');\n",
              "    }\n",
              "    (() => {\n",
              "      let quickchartButtonEl =\n",
              "        document.querySelector('#df-12ec9d06-9a65-4698-a946-156a5cb30b7b button');\n",
              "      quickchartButtonEl.style.display =\n",
              "        google.colab.kernel.accessAllowed ? 'block' : 'none';\n",
              "    })();\n",
              "  </script>\n",
              "</div>\n",
              "\n",
              "    </div>\n",
              "  </div>\n"
            ]
          },
          "metadata": {},
          "execution_count": 49
        }
      ],
      "source": [
        "df.head(10)"
      ]
    },
    {
      "cell_type": "markdown",
      "metadata": {
        "id": "z2uKLfKhlJZ6"
      },
      "source": [
        "### **Tarefa 4b. Conclusão**\n",
        "\n",
        "Agora que você explorou e visualizou seus dados, o próximo passo é compartilhar suas descobertas com Harriet Hadzic, Diretora de Análise de Dados do Waze. Considere as seguintes perguntas enquanto se prepara para escrever seu resumo executivo. Pense nos pontos-chave que você pode querer compartilhar com a equipe e em que informações são mais relevantes para o projeto de churn de usuários.\n",
        "\n",
        "**Perguntas:**\n",
        "\n",
        "1. Que tipos de distribuições você observou nas variáveis? O que isso diz sobre os dados??\n",
        "\n",
        "> *Quase todas as variáveis eram ou muito inclinadas para a direita ou uniformemente distribuídas. Para as distribuições inclinadas para a direita, isso significa que a maioria dos usuários tinha valores na extremidade inferior da faixa para aquela variável. Para as distribuições uniformes, isso significa que os usuários tinham uma probabilidade geralmente igual de ter valores em qualquer lugar dentro da faixa para aquela variável.*\n",
        "\n",
        "2. Houve algo que o levou a acreditar que os dados eram errôneos ou problemáticos de alguma forma?\n",
        "\n",
        "> *A maioria dos dados não foi problemática, e não houve indicação de que alguma variável única estava completamente errada. No entanto, várias variáveis tinham valores atípicos altamente improváveis ou talvez até impossíveis, como `driven_km_drives`. Algumas das variáveis mensais também podem ser problemáticas, como `activity_days` e `driving_days`, porque uma tem um valor máximo de 31 enquanto a outra tem um valor máximo de 30, indicando que a coleta de dados pode não ter ocorrido no mesmo mês para ambas as variáveis.*\n",
        "\n",
        "3. Sua investigação gerou novas perguntas que você gostaria de explorar ou perguntar à equipe do Waze?\n",
        "\n",
        "> *Sim. Eu gostaria de perguntar à equipe de dados do Waze se as variáveis mensais foram coletadas durante o mesmo mês, dado o fato de que algumas têm valores máximos de 30 dias, enquanto outras têm 31 dias. Eu também gostaria de saber por que tantos usuários de longa data começaram a usar o aplicativo tão intensamente apenas no último mês. Houve algo que mudou no último mês que poderia motivar esse tipo de comportamento?*\n",
        "\n",
        "4. Qual a porcentagem de usuários que abandonaram e qual a porcentagem que foram retidos?\n",
        "\n",
        "> *Menos de 18% dos usuários abandonaram, e ~82% foram retidos.*\n",
        "\n",
        "5. Quais fatores se correlacionaram com o abandono do usuário? Como?\n",
        "\n",
        "> *A distância percorrida por dia de condução teve uma correlação positiva com o abandono do usuário. Quanto mais longe um usuário dirigia em cada dia de condução, mais provável era que eles abandonassem. Por outro lado, o número de dias de condução teve uma correlação negativa com o abandono. Usuários que dirigiram mais dias no último mês eram menos propensos a abandonar.*\n",
        "\n",
        "6. Os usuários mais recentes tiveram uma representação maior neste conjunto de dados do que os usuários com maior tempo de permanência? Como você sabe?\n",
        "\n",
        "> *Não. Usuários de todas as permanências, desde recém-criados até ~10 anos, estavam relativamente bem representados nos dados. Isso é confirmado pelo histograma para `n_days_after_onboarding`, que revela uma distribuição uniforme para essa variável.*"
      ]
    }
  ],
  "metadata": {
    "colab": {
      "provenance": []
    },
    "kernelspec": {
      "display_name": "Python 3",
      "language": "python",
      "name": "python3"
    },
    "language_info": {
      "codemirror_mode": {
        "name": "ipython",
        "version": 3
      },
      "file_extension": ".py",
      "mimetype": "text/x-python",
      "name": "python",
      "nbconvert_exporter": "python",
      "pygments_lexer": "ipython3",
      "version": "3.7.6"
    }
  },
  "nbformat": 4,
  "nbformat_minor": 0
}