{
  "cells": [
    {
      "cell_type": "markdown",
      "metadata": {
        "id": "DtNBZFHO3M7n"
      },
      "source": [
        "# **Projeto de Retenção de Usuários no Waze**\n"
      ]
    },
    {
      "cell_type": "markdown",
      "metadata": {
        "id": "WVeXS7BNzX6e"
      },
      "source": [
        "Sua equipe do Waze está chegando à metade do projeto para desenvolver um modelo de aprendizado de máquina para prever a rotatividade de usuários.\n",
        "\n",
        "Até agora, você concluiu uma proposta de projeto e usou Python para explorar e analisar os dados do usuário do Waze. Você também usou Python para criar visualizações de dados. A próxima etapa é usar métodos estatísticos para analisar e interpretar seus dados.\n",
        "\n",
        "Você recebe um novo e-mail de Sylvester Esperanza, gerente de projeto. Sylvester conta à sua equipe sobre uma nova solicitação da liderança: analisar a relação entre a quantidade média de viagens e o tipo de dispositivo. Você também descobre e-mails de acompanhamento de três outros membros da equipe: May Santner, Chidi Ga e Harriet Hadzic. Esses e-mails discutem os detalhes da análise. Um e-mail final de Chidi inclui sua tarefa específica: conduzir um teste de hipótese de duas amostras."
      ]
    },
    {
      "cell_type": "markdown",
      "metadata": {
        "id": "rgSbVJvomcVa"
      },
      "source": [
        "# **Exploração de dados e teste de hipóteses**\n",
        "\n",
        "Nesta etapa, você explorará os dados fornecidos e conduzirá um teste de hipóteses.\n",
        "\n",
        "O objetivo deste projeto é demonstrar o conhecimento de como conduzir um teste de hipóteses de duas amostras.\n",
        "\n",
        "A meta é aplicar estatísticas descritivas e teste de hipóteses em Python.\n",
        "\n",
        "<br/>\n",
        "\n",
        "*Esta etapa tem três partes:*\n",
        "\n",
        "**Parte 1:** Importações e carregamento de dados\n",
        "* Quais pacotes de dados serão necessários para o teste de hipóteses?\n",
        "\n",
        "**Parte 2:** Conduzir o teste de hipóteses\n",
        "* Como o cálculo de estatísticas descritivas ajudou na análise dos seus dados?\n",
        "\n",
        "* Como você formulou sua hipótese nula e hipótese alternativa?\n",
        "\n",
        "**Parte 3:** Comunicar insights com as partes interessadas\n",
        "\n",
        "* Quais insights de negócios emergiram do seu teste de hipóteses?\n",
        "\n",
        "* Quais recomendações de negócios você propõe com base nos seus resultados?\n",
        "\n",
        "<br/>\n",
        "\n",
        "\n",
        "Siga as instruções e responda às perguntas abaixo para completar a atividade. Em seguida, você elaborará um Resumo Executivo usando as perguntas listadas no Documento de Estratégia PACE.\n",
        "\n"
      ]
    },
    {
      "cell_type": "markdown",
      "metadata": {
        "id": "N8qrn_UAzX6j"
      },
      "source": [
        "\n",
        "\n",
        "# **PACE stages**"
      ]
    },
    {
      "cell_type": "markdown",
      "metadata": {
        "id": "uaTT5L94hh5s"
      },
      "source": [
        "Ao longo desse projeto, você verá referências ao framework de resolução de problemas PACE."
      ]
    },
    {
      "cell_type": "markdown",
      "metadata": {
        "id": "Bb1HNu3FzX6k"
      },
      "source": [
        "\n",
        "\n",
        "\n",
        "## **PACE: Planejar**\n",
        "\n",
        "1. Qual é a sua pergunta de pesquisa para este projeto de dados? Mais tarde, será necessário formular as hipóteses nula e alternativa como o primeiro passo do seu teste de hipóteses. Considere sua pergunta de pesquisa agora, no início desta tarefa.\n"
      ]
    },
    {
      "cell_type": "markdown",
      "metadata": {
        "id": "F6_h60RuXQIz"
      },
      "source": [
        "**Pergunta de pesquisa:**\n",
        "\n",
        ">\"Os motoristas que abrem o aplicativo usando um iPhone têm o mesmo número médio de viagens que os motoristas que usam dispositivos Android?\""
      ]
    },
    {
      "cell_type": "markdown",
      "metadata": {
        "id": "Kp3uDhhSg_qu"
      },
      "source": [
        "*Realize as seguintes tarefas para realizar a análise estatística de seus dados:*"
      ]
    },
    {
      "cell_type": "markdown",
      "metadata": {
        "id": "xgQEdIN7f1Jq"
      },
      "source": [
        "### **Tarefa 1. Importação e carregamento de dados**"
      ]
    },
    {
      "cell_type": "code",
      "execution_count": null,
      "metadata": {
        "id": "1Q-GL2UrgWWG"
      },
      "outputs": [],
      "source": [
        "import pandas as pd\n",
        "from scipy import stats"
      ]
    },
    {
      "cell_type": "code",
      "execution_count": null,
      "metadata": {
        "id": "2qAt6Upaeg6U"
      },
      "outputs": [],
      "source": [
        "df = pd.read_csv('waze_dataset.csv')"
      ]
    },
    {
      "cell_type": "markdown",
      "metadata": {
        "id": "c8paWsdKzX6o"
      },
      "source": [
        "\n",
        "\n",
        "## **PACE: Analisar e Construir**\n",
        "\n",
        "1. Profissionais de dados utilizam estatísticas descritivas para a Análise Exploratória de Dados (EDA). Como o cálculo de estatísticas descritivas pode ajudá-lo a aprender mais sobre seus dados nesta etapa da sua análise?\n",
        "\n",
        "\n",
        "Em geral, estatísticas descritivas são úteis porque permitem explorar e compreender rapidamente grandes quantidades de dados. Neste caso, o cálculo de estatísticas descritivas ajuda a comparar rapidamente a quantidade média de viagens por tipo de dispositivo.\n"
      ]
    },
    {
      "cell_type": "markdown",
      "metadata": {
        "id": "UKhYTdVhf5B2"
      },
      "source": [
        "### **Tarefa 2. Exploração doa dados**\n",
        "\n",
        "\n",
        "Utilize estatísticas descritivas para realizar a Análise Exploratória de Dados (EDA).\n"
      ]
    },
    {
      "cell_type": "markdown",
      "metadata": {
        "id": "JAq7ag0pTNgl"
      },
      "source": [
        "**Observação:** No conjunto de dados, `device` é uma variável categórica com os valores iPhone e Android.\n",
        "\n",
        "Para realizar esta análise, é necessário converter cada valor em um número inteiro. O código a seguir atribui 1 para um usuário de iPhone e 2 para Android. Esse rótulo é então associado à variável `device_type`.\n",
        "\n",
        "**Observação:** Criar uma nova variável é o ideal para que você não substitua os dados originais.\n",
        "\n"
      ]
    },
    {
      "cell_type": "markdown",
      "metadata": {
        "id": "n3_h-Gt-g7Vc"
      },
      "source": [
        "1. Crie um dicionário chamado `map_dictionary` que contenha os valores de classe ('Android' e 'iPhone') como keys e os valores desejados para a conversão (2 e 1) como values.\n",
        "\n",
        "2. Crie uma nova coluna chamada `device_type`, que é uma cópia da coluna `device`.\n",
        "\n",
        "3. Use o método [`map()`](https://pandas.pydata.org/docs/reference/api/pandas.Series.map.html#pandas-series-map) na série `device_type`. Passe `map_dictionary` como seu argumento. Reatribua o resultado de volta à série `device_type`.\n",
        "</br></br>\n",
        "Ao passar um dicionário para o método `Series.map()`, ele substituirá os dados na série onde esses dados correspondem às chaves do dicionário. Os valores que são imputados são os valores do dicionário.\n",
        "\n",
        "```\n",
        "Examplo:\n",
        "df['coluna']\n",
        "```\n",
        "\n",
        "|column |\n",
        "|  :-:       |\n",
        "| A     |\n",
        "| B     |\n",
        "| A     |\n",
        "| B     |\n",
        "\n",
        "```\n",
        "map_dictionary = {'A': 2, 'B': 1}\n",
        "df['coluna'] = df['coluna'].map(map_dictionary)\n",
        "df['coluna']\n",
        "```\n",
        "\n",
        "|column |\n",
        "|  :-: |\n",
        "| 2    |\n",
        "| 1    |\n",
        "| 2    |\n",
        "| 1    |\n"
      ]
    },
    {
      "cell_type": "code",
      "execution_count": null,
      "metadata": {
        "colab": {
          "base_uri": "https://localhost:8080/"
        },
        "id": "PFV0nIWyg4AQ",
        "outputId": "30e12dc3-897f-4a76-86be-6bd31fef713d"
      },
      "outputs": [
        {
          "output_type": "execute_result",
          "data": {
            "text/plain": [
              "0    2\n",
              "1    1\n",
              "2    2\n",
              "3    1\n",
              "4    2\n",
              "Name: device_type, dtype: int64"
            ]
          },
          "metadata": {},
          "execution_count": 4
        }
      ],
      "source": [
        "# 1. Criando o map_dictionary\n",
        "map_dictionary = {'Android': 2, 'iPhone': 1}\n",
        "\n",
        "# 2. Criando a nova coluna device_type\n",
        "df['device_type'] = df['device']\n",
        "\n",
        "# 3. Mapeando a nova coluna para o dicionário\n",
        "df['device_type'] = df['device_type'].map(map_dictionary)\n",
        "\n",
        "df['device_type'].head()"
      ]
    },
    {
      "cell_type": "markdown",
      "metadata": {
        "id": "-fFiNg4hdGBK"
      },
      "source": [
        "Estamos interessados na relação entre o tipo de dispositivo e o número de viagens. Uma abordagem é analisar a média do número de viagens para cada tipo de dispositivo. Calcule essas médias."
      ]
    },
    {
      "cell_type": "code",
      "execution_count": null,
      "metadata": {
        "colab": {
          "base_uri": "https://localhost:8080/"
        },
        "id": "2LGEWrdVXgI2",
        "outputId": "835c340b-703e-4433-b882-c5e7482a39c0"
      },
      "outputs": [
        {
          "output_type": "execute_result",
          "data": {
            "text/plain": [
              "device_type\n",
              "1    67.859078\n",
              "2    66.231838\n",
              "Name: drives, dtype: float64"
            ]
          },
          "metadata": {},
          "execution_count": 5
        }
      ],
      "source": [
        "df.groupby('device_type')['drives'].mean()"
      ]
    },
    {
      "cell_type": "markdown",
      "metadata": {
        "id": "Z_u-zWvGdfII"
      },
      "source": [
        "\n",
        "Com base nas médias apresentadas, parece que os motoristas que usam um dispositivo iPhone para interagir com o aplicativo têm um número maior de viagens em média. No entanto, essa diferença pode surgir de uma amostragem aleatória, em vez de ser uma diferença real no número de viagens. Para avaliar se a diferença é estatisticamente significativa, podemos realizar um teste de hipótese."
      ]
    },
    {
      "cell_type": "markdown",
      "metadata": {
        "id": "QpFRQDaNzX6p"
      },
      "source": [
        "\n",
        "### **Tarega 3. Teste de Hipótese**"
      ]
    },
    {
      "cell_type": "markdown",
      "metadata": {
        "id": "7Mn5GJ460HUS"
      },
      "source": [
        "\n",
        "Seu objetivo é realizar um teste t de duas amostras. Lembre-se dos passos para conduzir um teste de hipótese:\n",
        "\n",
        "1. Estabelecer a hipótese nula e a hipótese alternativa\n",
        "2. Escolher um nível de significância\n",
        "3. Encontrar o valor-p\n",
        "4. Rejeitar ou falhar em rejeitar a hipótese nula\n",
        "\n",
        "**Observação**: Este é um teste t para duas amostras independentes, o qual é apropriado, pois os dois grupos são independentes (usuários de Android versus usuários de iPhone)."
      ]
    },
    {
      "cell_type": "markdown",
      "metadata": {
        "id": "pw3YTF5AGfzY"
      },
      "source": [
        "Lembre-se da diferença entre a hipótese nula ($H_0$) e a hipótese alternativa ($H_A$).\n",
        "\n",
        "Pergunta: Quais são suas hipóteses para este projeto de dados?"
      ]
    },
    {
      "cell_type": "markdown",
      "metadata": {
        "id": "SkDeGggZYM84"
      },
      "source": [
        "\n",
        "**Hipóteses:**\n",
        "\n",
        "- $H_0$: Não há diferença no número médio de viagens entre os motoristas que usam dispositivos iPhone e os motoristas que usam Androids.\n",
        "\n",
        "- $H_A$: Há uma diferença no número médio de viagens entre os motoristas que usam dispositivos iPhone e os motoristas que usam Androids."
      ]
    },
    {
      "cell_type": "markdown",
      "metadata": {
        "id": "IVHpnfvNeTUA"
      },
      "source": [
        "A seguir, escolha um nível de significância de 5% e prossiga com um teste t de duas amostras.\n",
        "\n",
        "Podemos utilizar a função `stats.ttest_ind()` para realizar o teste.\n",
        "\n",
        "\n",
        "**Nota técnica**: O padrão para o argumento `equal_var` em `stats.ttest_ind()` é `True`, o que pressupõe que as variâncias das populações são iguais. Essa suposição de igualdade de variância pode não ser válida na prática (ou seja, não há uma forte razão para assumir que os dois grupos têm a mesma variância); podemos relaxar essa suposição definindo `equal_var` como `False`, e `stats.ttest_ind()` realizará o teste t de variâncias desiguais (conhecido como teste t de Welch). Consulte a [documentação do teste t do SciPy](https://docs.scipy.org/doc/scipy/reference/generated/scipy.stats.ttest_ind.html) para obter mais informações.\n",
        "\n",
        "\n",
        "1. Isolar a coluna `drives` para usuários de iPhone.\n",
        "2. Isolar a coluna `drives` para usuários de Android.\n",
        "3. Realizar o teste t."
      ]
    },
    {
      "cell_type": "code",
      "execution_count": null,
      "metadata": {
        "colab": {
          "base_uri": "https://localhost:8080/"
        },
        "id": "rdlsXg7Dhbrd",
        "outputId": "59357c19-ffcc-46f0-94e0-f1e3ebf9e37c"
      },
      "outputs": [
        {
          "output_type": "execute_result",
          "data": {
            "text/plain": [
              "TtestResult(statistic=1.463523206885235, pvalue=0.143351972680206, df=11345.066049381952)"
            ]
          },
          "metadata": {},
          "execution_count": 6
        }
      ],
      "source": [
        "# 1. Isolando a coluna drives para usuários de iPhone\n",
        "iPhone = df[df['device_type'] == 1]['drives']\n",
        "\n",
        "# 2. Isolando a coluna drives para usuários de Android\n",
        "Android = df[df['device_type'] == 2]['drives']\n",
        "\n",
        "# 3. Realizando o teste t\n",
        "stats.ttest_ind(a=iPhone, b=Android, equal_var=False)"
      ]
    },
    {
      "cell_type": "markdown",
      "metadata": {
        "id": "4cx01KwnTwY7"
      },
      "source": [
        "**Pergunta:** Com base no valor de p obtido acima, você rejeita ou não rejeita a hipótese nula?\n",
        "\n",
        "> Como o valor de p é maior que o nível de significância escolhido (0.05), você não rejeita a hipótese nula. Conclui-se que não há uma diferença estatisticamente significativa no número médio de viagens entre motoristas que usam iPhones e motoristas que usam Androids."
      ]
    },
    {
      "cell_type": "markdown",
      "metadata": {
        "id": "Ab4e-W3mzX6r"
      },
      "source": [
        "\n",
        "\n",
        "## **PACE: Executar**\n",
        "\n"
      ]
    },
    {
      "cell_type": "markdown",
      "metadata": {
        "id": "h1PRfiD3hcwE"
      },
      "source": [
        "### **Tarefa 4: Comunique insights aos stakeholders**"
      ]
    },
    {
      "cell_type": "markdown",
      "metadata": {
        "id": "ItreFaZKhvVw"
      },
      "source": [
        "Agora que você concluiu seu teste de hipótese, o próximo passo é compartilhar suas descobertas com a equipe de liderança do Waze. Considere a seguinte pergunta ao se preparar para escrever seu resumo executivo:\n",
        "\n",
        "* Que insights de negócios você pode extrair do resultado do seu teste de hipótese?\n",
        "\n",
        "> *O insight de negócios chave é que os motoristas que utilizam dispositivos iPhone têm, em média, um número de viagens semelhante aos que utilizam Androids.*\n",
        "\n",
        "> *Um próximo passo potencial é explorar quais outros fatores influenciam a variação no número de viagens e realizar testes de hipóteses adicionais para obter mais informações sobre o comportamento do usuário. Além disso, mudanças temporárias no marketing ou na interface do usuário do aplicativo Waze podem fornecer mais dados para investigar a rotatividade.*"
      ]
    }
  ],
  "metadata": {
    "colab": {
      "provenance": []
    },
    "kernelspec": {
      "display_name": "Python 3",
      "language": "python",
      "name": "python3"
    },
    "language_info": {
      "codemirror_mode": {
        "name": "ipython",
        "version": 3
      },
      "file_extension": ".py",
      "mimetype": "text/x-python",
      "name": "python",
      "nbconvert_exporter": "python",
      "pygments_lexer": "ipython3",
      "version": "3.7.6"
    }
  },
  "nbformat": 4,
  "nbformat_minor": 0
}